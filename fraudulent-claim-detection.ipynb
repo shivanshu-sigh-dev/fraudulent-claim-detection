{
 "cells": [
  {
   "cell_type": "markdown",
   "metadata": {
    "id": "uJ6cv25EDPWV"
   },
   "source": [
    "## **Fraudulent Claim Detection**"
   ]
  },
  {
   "cell_type": "markdown",
   "metadata": {
    "id": "_rLrWLwZDPWW"
   },
   "source": [
    "## Problem Statement\n",
    "Global Insure, a leading insurance company, processes thousands of claims annually. However, a significant percentage of these claims turn out to be fraudulent, resulting in considerable financial losses. The company’s current process for identifying fraudulent claims involves manual inspections, which is time-consuming and inefficient. Fraudulent claims are often detected too late in the process, after the company has already paid out significant amounts. Global Insure wants to improve its fraud detection process using data-driven insights to classify claims as fraudulent or legitimate early in the approval process. This would minimise financial losses and optimise the overall claims handling process.\n",
    "\n",
    "## Business Objective\n",
    "Global Insure wants to build a model to classify insurance claims as either fraudulent or legitimate based on historical claim details and customer profiles. By using features like claim amounts, customer profiles and claim types, the company aims to predict which claims are likely to be fraudulent before they are approved.\n",
    "\n",
    "\n",
    "Based on this assignment, you have to answer the following questions:<br>\n",
    "\n",
    "● How can we analyse historical claim data to detect patterns that indicate fraudulent claims?<br>\n",
    "● Which features are most predictive of fraudulent behaviour?<br>\n",
    "● Can we predict the likelihood of fraud for an incoming claim, based on past data?<br>\n",
    "● What insights can be drawn from the model that can help in improving the fraud detection process?<br>"
   ]
  },
  {
   "cell_type": "markdown",
   "metadata": {
    "id": "dCp1H_XyDPWX"
   },
   "source": [
    "## Assignment Tasks\n",
    "You need to perform the following steps for successfully completing this assignment:\n",
    "1. Data Preparation\n",
    "2. Data Cleaning\n",
    "3. Train Validation Split 70-30\n",
    "4. EDA on Training Data\n",
    "5. EDA on Validation Data (optional)\n",
    "6. Feature Engineering\n",
    "7. Model Building\n",
    "8. Predicting and Model Evaluation"
   ]
  },
  {
   "cell_type": "markdown",
   "metadata": {
    "id": "PPnbScj6sHfw"
   },
   "source": [
    "## Data Dictionary\n",
    "The insurance claims data has 40 Columns and 1000 Rows. Following data dictionary provides the description for each column present in dataset:<br>\n",
    "\n",
    "<table>\n",
    "  <thead>\n",
    "    <tr>\n",
    "      <th>Column Name</th>\n",
    "      <th>Description</th>\n",
    "    </tr>\n",
    "  </thead>\n",
    "  <tbody>\n",
    "    <tr>\n",
    "      <td>months_as_customer</td>\n",
    "      <td>Represents the duration in months that a customer has been associated with the insurance company.</td>\n",
    "    </tr>\n",
    "    <tr>\n",
    "      <td>age</td>\n",
    "      <td>Represents the age of the insured person.</td>\n",
    "    </tr>\n",
    "    <tr>\n",
    "      <td>policy_number</td>\n",
    "      <td>Represents a unique identifier for each insurance policy.</td>\n",
    "    </tr>\n",
    "    <tr>\n",
    "      <td>policy_bind_date</td>\n",
    "      <td>Represents the date when the insurance policy was initiated.</td>\n",
    "    </tr>\n",
    "    <tr>\n",
    "      <td>policy_state</td>\n",
    "      <td>Represents the state where the insurance policy is applicable.</td>\n",
    "    </tr>\n",
    "    <tr>\n",
    "      <td>policy_csl</td>\n",
    "      <td>Represents the combined single limit for the insurance policy.</td>\n",
    "    </tr>\n",
    "    <tr>\n",
    "      <td>policy_deductable</td>\n",
    "      <td>Represents the amount that the insured person needs to pay before the insurance coverage kicks in.</td>\n",
    "    </tr>\n",
    "    <tr>\n",
    "      <td>policy_annual_premium</td>\n",
    "      <td>Represents the yearly cost of the insurance policy.</td>\n",
    "    </tr>\n",
    "    <tr>\n",
    "      <td>umbrella_limit</td>\n",
    "      <td>Represents an additional layer of liability coverage provided beyond the limits of the primary insurance policy.</td>\n",
    "    </tr>\n",
    "    <tr>\n",
    "      <td>insured_zip</td>\n",
    "      <td>Represents the zip code of the insured person.</td>\n",
    "    </tr>\n",
    "    <tr>\n",
    "      <td>insured_sex</td>\n",
    "      <td>Represents the gender of the insured person.</td>\n",
    "    </tr>\n",
    "    <tr>\n",
    "      <td>insured_education_level</td>\n",
    "      <td>Represents the highest educational qualification of the insured person.</td>\n",
    "    </tr>\n",
    "    <tr>\n",
    "      <td>insured_occupation</td>\n",
    "      <td>Represents the profession or job of the insured person.</td>\n",
    "    </tr>\n",
    "    <tr>\n",
    "      <td>insured_hobbies</td>\n",
    "      <td>Represents the hobbies or leisure activities of the insured person.</td>\n",
    "    </tr>\n",
    "    <tr>\n",
    "      <td>insured_relationship</td>\n",
    "      <td>Represents the relationship of the insured person to the policyholder.</td>\n",
    "    </tr>\n",
    "    <tr>\n",
    "      <td>capital-gains</td>\n",
    "      <td>Represents the profit earned from the sale of assets such as stocks, bonds, or real estate.</td>\n",
    "    </tr>\n",
    "    <tr>\n",
    "      <td>capital-loss</td>\n",
    "      <td>Represents the loss incurred from the sale of assets such as stocks, bonds, or real estate.</td>\n",
    "    </tr>\n",
    "    <tr>\n",
    "      <td>incident_date</td>\n",
    "      <td>Represents the date when the incident or accident occurred.</td>\n",
    "    </tr>\n",
    "    <tr>\n",
    "      <td>incident_type</td>\n",
    "      <td>Represents the category or type of incident that led to the claim.</td>\n",
    "    </tr>\n",
    "    <tr>\n",
    "      <td>collision_type</td>\n",
    "      <td>Represents the type of collision that occurred in an accident.</td>\n",
    "    </tr>\n",
    "    <tr>\n",
    "      <td>incident_severity</td>\n",
    "      <td>Represents the extent of damage or injury caused by the incident.</td>\n",
    "    </tr>\n",
    "    <tr>\n",
    "      <td>authorities_contacted</td>\n",
    "      <td>Represents the authorities or agencies that were contacted after the incident.</td>\n",
    "    </tr>\n",
    "    <tr>\n",
    "      <td>incident_state</td>\n",
    "      <td>Represents the state where the incident occurred.</td>\n",
    "    </tr>\n",
    "    <tr>\n",
    "      <td>incident_city</td>\n",
    "      <td>Represents the city where the incident occurred.</td>\n",
    "    </tr>\n",
    "    <tr>\n",
    "      <td>incident_location</td>\n",
    "      <td>Represents the specific location or address where the incident occurred.</td>\n",
    "    </tr>\n",
    "    <tr>\n",
    "      <td>incident_hour_of_the_day</td>\n",
    "      <td>Represents the hour of the day when the incident occurred.</td>\n",
    "    </tr>\n",
    "    <tr>\n",
    "      <td>number_of_vehicles_involved</td>\n",
    "      <td>Represents the total number of vehicles involved in the incident.</td>\n",
    "    </tr>\n",
    "    <tr>\n",
    "      <td>property_damage</td>\n",
    "      <td>Represents whether there was any damage to property in the incident.</td>\n",
    "    </tr>\n",
    "    <tr>\n",
    "      <td>bodily_injuries</td>\n",
    "      <td>Represents the number of bodily injuries resulting from the incident.</td>\n",
    "    </tr>\n",
    "    <tr>\n",
    "      <td>witnesses</td>\n",
    "      <td>Represents the number of witnesses present at the scene of the incident.</td>\n",
    "    </tr>\n",
    "    <tr>\n",
    "      <td>police_report_available</td>\n",
    "      <td>Represents whether a police report is available for the incident.</td>\n",
    "    </tr>\n",
    "    <tr>\n",
    "      <td>total_claim_amount</td>\n",
    "      <td>Represents the total amount claimed by the insured person for the incident.</td>\n",
    "    </tr>\n",
    "    <tr>\n",
    "      <td>injury_claim</td>\n",
    "      <td>Represents the amount claimed for injuries sustained in the incident.</td>\n",
    "    </tr>\n",
    "    <tr>\n",
    "      <td>property_claim</td>\n",
    "      <td>Represents the amount claimed for property damage in the incident.</td>\n",
    "    </tr>\n",
    "    <tr>\n",
    "      <td>vehicle_claim</td>\n",
    "      <td>Represents the amount claimed for vehicle damage in the incident.</td>\n",
    "    </tr>\n",
    "    <tr>\n",
    "      <td>auto_make</td>\n",
    "      <td>Represents the manufacturer of the insured vehicle.</td>\n",
    "    </tr>\n",
    "    <tr>\n",
    "      <td>auto_model</td>\n",
    "      <td>Represents the specific model of the insured vehicle.</td>\n",
    "    </tr>\n",
    "    <tr>\n",
    "      <td>auto_year</td>\n",
    "      <td>Represents the year of manufacture of the insured vehicle.</td>\n",
    "    </tr>\n",
    "    <tr>\n",
    "      <td>fraud_reported</td>\n",
    "      <td>Represents whether the claim was reported as fraudulent or not.</td>\n",
    "    </tr>\n",
    "    <tr>\n",
    "      <td>_c39</td>\n",
    "      <td>Represents an unknown or unspecified variable.</td>\n",
    "    </tr>\n",
    "  </tbody>\n",
    "</table>"
   ]
  },
  {
   "cell_type": "markdown",
   "metadata": {
    "id": "2Hfg3nHjDPWY"
   },
   "source": [
    "## **1. Data Preparation**\n",
    "In this step, read the dataset provided in CSV format and look at basic statistics of the data, including preview of data, dimension of data, column descriptions and data types."
   ]
  },
  {
   "cell_type": "markdown",
   "metadata": {
    "id": "2xZBs5L_DPWY"
   },
   "source": [
    "### **1.0 Import Libraries**"
   ]
  },
  {
   "cell_type": "code",
   "execution_count": 99,
   "metadata": {
    "id": "2xUZYP92DPWY"
   },
   "outputs": [],
   "source": [
    "# Supress unnecessary warnings\n",
    "import warnings\n",
    "warnings.filterwarnings(\"ignore\")"
   ]
  },
  {
   "cell_type": "code",
   "execution_count": 100,
   "metadata": {
    "id": "6glz5HkPDPWZ"
   },
   "outputs": [],
   "source": [
    "# Import necessary libraries\n",
    "import numpy as np\n",
    "import pandas as pd\n",
    "import seaborn as sns\n",
    "import matplotlib.pyplot as plt"
   ]
  },
  {
   "cell_type": "markdown",
   "metadata": {
    "id": "D8-RBUdWDPWZ"
   },
   "source": [
    "### **1.1 Load the Data**"
   ]
  },
  {
   "cell_type": "code",
   "execution_count": 101,
   "metadata": {
    "id": "kP0JaSjJDPWZ"
   },
   "outputs": [],
   "source": [
    "# Load the dataset\n",
    "df = pd.read_csv('./dataset/insurance_claims.csv')"
   ]
  },
  {
   "cell_type": "code",
   "execution_count": 102,
   "metadata": {
    "id": "qaR4TkqTDPWZ"
   },
   "outputs": [
    {
     "data": {
      "text/html": [
       "<div>\n",
       "<style scoped>\n",
       "    .dataframe tbody tr th:only-of-type {\n",
       "        vertical-align: middle;\n",
       "    }\n",
       "\n",
       "    .dataframe tbody tr th {\n",
       "        vertical-align: top;\n",
       "    }\n",
       "\n",
       "    .dataframe thead th {\n",
       "        text-align: right;\n",
       "    }\n",
       "</style>\n",
       "<table border=\"1\" class=\"dataframe\">\n",
       "  <thead>\n",
       "    <tr style=\"text-align: right;\">\n",
       "      <th></th>\n",
       "      <th>months_as_customer</th>\n",
       "      <th>age</th>\n",
       "      <th>policy_number</th>\n",
       "      <th>policy_bind_date</th>\n",
       "      <th>policy_state</th>\n",
       "      <th>policy_csl</th>\n",
       "      <th>policy_deductable</th>\n",
       "      <th>policy_annual_premium</th>\n",
       "      <th>umbrella_limit</th>\n",
       "      <th>insured_zip</th>\n",
       "      <th>...</th>\n",
       "      <th>police_report_available</th>\n",
       "      <th>total_claim_amount</th>\n",
       "      <th>injury_claim</th>\n",
       "      <th>property_claim</th>\n",
       "      <th>vehicle_claim</th>\n",
       "      <th>auto_make</th>\n",
       "      <th>auto_model</th>\n",
       "      <th>auto_year</th>\n",
       "      <th>fraud_reported</th>\n",
       "      <th>_c39</th>\n",
       "    </tr>\n",
       "  </thead>\n",
       "  <tbody>\n",
       "    <tr>\n",
       "      <th>0</th>\n",
       "      <td>328</td>\n",
       "      <td>48</td>\n",
       "      <td>521585</td>\n",
       "      <td>2014-10-17</td>\n",
       "      <td>OH</td>\n",
       "      <td>250/500</td>\n",
       "      <td>1000</td>\n",
       "      <td>1406.91</td>\n",
       "      <td>0</td>\n",
       "      <td>466132</td>\n",
       "      <td>...</td>\n",
       "      <td>YES</td>\n",
       "      <td>71610</td>\n",
       "      <td>6510</td>\n",
       "      <td>13020</td>\n",
       "      <td>52080</td>\n",
       "      <td>Saab</td>\n",
       "      <td>92x</td>\n",
       "      <td>2004</td>\n",
       "      <td>Y</td>\n",
       "      <td>NaN</td>\n",
       "    </tr>\n",
       "    <tr>\n",
       "      <th>1</th>\n",
       "      <td>228</td>\n",
       "      <td>42</td>\n",
       "      <td>342868</td>\n",
       "      <td>2006-06-27</td>\n",
       "      <td>IN</td>\n",
       "      <td>250/500</td>\n",
       "      <td>2000</td>\n",
       "      <td>1197.22</td>\n",
       "      <td>5000000</td>\n",
       "      <td>468176</td>\n",
       "      <td>...</td>\n",
       "      <td>?</td>\n",
       "      <td>5070</td>\n",
       "      <td>780</td>\n",
       "      <td>780</td>\n",
       "      <td>3510</td>\n",
       "      <td>Mercedes</td>\n",
       "      <td>E400</td>\n",
       "      <td>2007</td>\n",
       "      <td>Y</td>\n",
       "      <td>NaN</td>\n",
       "    </tr>\n",
       "    <tr>\n",
       "      <th>2</th>\n",
       "      <td>134</td>\n",
       "      <td>29</td>\n",
       "      <td>687698</td>\n",
       "      <td>2000-09-06</td>\n",
       "      <td>OH</td>\n",
       "      <td>100/300</td>\n",
       "      <td>2000</td>\n",
       "      <td>1413.14</td>\n",
       "      <td>5000000</td>\n",
       "      <td>430632</td>\n",
       "      <td>...</td>\n",
       "      <td>NO</td>\n",
       "      <td>34650</td>\n",
       "      <td>7700</td>\n",
       "      <td>3850</td>\n",
       "      <td>23100</td>\n",
       "      <td>Dodge</td>\n",
       "      <td>RAM</td>\n",
       "      <td>2007</td>\n",
       "      <td>N</td>\n",
       "      <td>NaN</td>\n",
       "    </tr>\n",
       "    <tr>\n",
       "      <th>3</th>\n",
       "      <td>256</td>\n",
       "      <td>41</td>\n",
       "      <td>227811</td>\n",
       "      <td>1990-05-25</td>\n",
       "      <td>IL</td>\n",
       "      <td>250/500</td>\n",
       "      <td>2000</td>\n",
       "      <td>1415.74</td>\n",
       "      <td>6000000</td>\n",
       "      <td>608117</td>\n",
       "      <td>...</td>\n",
       "      <td>NO</td>\n",
       "      <td>63400</td>\n",
       "      <td>6340</td>\n",
       "      <td>6340</td>\n",
       "      <td>50720</td>\n",
       "      <td>Chevrolet</td>\n",
       "      <td>Tahoe</td>\n",
       "      <td>2014</td>\n",
       "      <td>Y</td>\n",
       "      <td>NaN</td>\n",
       "    </tr>\n",
       "    <tr>\n",
       "      <th>4</th>\n",
       "      <td>228</td>\n",
       "      <td>44</td>\n",
       "      <td>367455</td>\n",
       "      <td>2014-06-06</td>\n",
       "      <td>IL</td>\n",
       "      <td>500/1000</td>\n",
       "      <td>1000</td>\n",
       "      <td>1583.91</td>\n",
       "      <td>6000000</td>\n",
       "      <td>610706</td>\n",
       "      <td>...</td>\n",
       "      <td>NO</td>\n",
       "      <td>6500</td>\n",
       "      <td>1300</td>\n",
       "      <td>650</td>\n",
       "      <td>4550</td>\n",
       "      <td>Accura</td>\n",
       "      <td>RSX</td>\n",
       "      <td>2009</td>\n",
       "      <td>N</td>\n",
       "      <td>NaN</td>\n",
       "    </tr>\n",
       "  </tbody>\n",
       "</table>\n",
       "<p>5 rows × 40 columns</p>\n",
       "</div>"
      ],
      "text/plain": [
       "   months_as_customer  age  policy_number policy_bind_date policy_state  \\\n",
       "0                 328   48         521585       2014-10-17           OH   \n",
       "1                 228   42         342868       2006-06-27           IN   \n",
       "2                 134   29         687698       2000-09-06           OH   \n",
       "3                 256   41         227811       1990-05-25           IL   \n",
       "4                 228   44         367455       2014-06-06           IL   \n",
       "\n",
       "  policy_csl  policy_deductable  policy_annual_premium  umbrella_limit  \\\n",
       "0    250/500               1000                1406.91               0   \n",
       "1    250/500               2000                1197.22         5000000   \n",
       "2    100/300               2000                1413.14         5000000   \n",
       "3    250/500               2000                1415.74         6000000   \n",
       "4   500/1000               1000                1583.91         6000000   \n",
       "\n",
       "   insured_zip  ... police_report_available total_claim_amount injury_claim  \\\n",
       "0       466132  ...                     YES              71610         6510   \n",
       "1       468176  ...                       ?               5070          780   \n",
       "2       430632  ...                      NO              34650         7700   \n",
       "3       608117  ...                      NO              63400         6340   \n",
       "4       610706  ...                      NO               6500         1300   \n",
       "\n",
       "  property_claim vehicle_claim  auto_make  auto_model auto_year  \\\n",
       "0          13020         52080       Saab         92x      2004   \n",
       "1            780          3510   Mercedes        E400      2007   \n",
       "2           3850         23100      Dodge         RAM      2007   \n",
       "3           6340         50720  Chevrolet       Tahoe      2014   \n",
       "4            650          4550     Accura         RSX      2009   \n",
       "\n",
       "  fraud_reported _c39  \n",
       "0              Y  NaN  \n",
       "1              Y  NaN  \n",
       "2              N  NaN  \n",
       "3              Y  NaN  \n",
       "4              N  NaN  \n",
       "\n",
       "[5 rows x 40 columns]"
      ]
     },
     "execution_count": 102,
     "metadata": {},
     "output_type": "execute_result"
    }
   ],
   "source": [
    "# Check at the first few entries\n",
    "df.head()"
   ]
  },
  {
   "cell_type": "code",
   "execution_count": 103,
   "metadata": {
    "id": "TK9_lipzDPWa"
   },
   "outputs": [
    {
     "name": "stdout",
     "output_type": "stream",
     "text": [
      "Shape of the dataset: (1000, 40)\n"
     ]
    }
   ],
   "source": [
    "# Inspect the shape of the dataset\n",
    "print(\"Shape of the dataset:\", df.shape)"
   ]
  },
  {
   "cell_type": "code",
   "execution_count": 198,
   "metadata": {
    "id": "Fd0PADNIuqov"
   },
   "outputs": [
    {
     "name": "stdout",
     "output_type": "stream",
     "text": [
      "Features in the dataset: ['months_as_customer', 'age', 'policy_number', 'policy_bind_date', 'policy_state', 'policy_csl', 'policy_deductable', 'policy_annual_premium', 'umbrella_limit', 'insured_zip', 'insured_sex', 'insured_education_level', 'insured_occupation', 'insured_hobbies', 'insured_relationship', 'capital-gains', 'capital-loss', 'incident_date', 'incident_type', 'collision_type', 'incident_severity', 'authorities_contacted', 'incident_state', 'incident_city', 'incident_location', 'incident_hour_of_the_day', 'number_of_vehicles_involved', 'property_damage', 'bodily_injuries', 'witnesses', 'police_report_available', 'total_claim_amount', 'injury_claim', 'property_claim', 'vehicle_claim', 'auto_make', 'auto_model', 'auto_year', 'fraud_reported', '_c39']\n"
     ]
    }
   ],
   "source": [
    "# Inspect the features in the dataset\n",
    "print(\"Features in the dataset:\", df.columns.tolist())"
   ]
  },
  {
   "cell_type": "markdown",
   "metadata": {
    "id": "YRijmf2EDPWa"
   },
   "source": [
    "## **2. Data Cleaning** <font color = red>[10 marks]</font>"
   ]
  },
  {
   "cell_type": "markdown",
   "metadata": {
    "id": "DxXOACINDPWa"
   },
   "source": [
    "### **2.1 Handle null values** <font color = red>[2 marks]</font>"
   ]
  },
  {
   "cell_type": "markdown",
   "metadata": {
    "id": "kJDjZSkmDPWa"
   },
   "source": [
    "#### **2.1.1** Examine the columns to determine if any value or column needs to be treated <font color=\"red\">[1 Mark]</font>"
   ]
  },
  {
   "cell_type": "code",
   "execution_count": 201,
   "metadata": {
    "id": "3B4OtvQlDPWa"
   },
   "outputs": [
    {
     "data": {
      "text/plain": [
       "months_as_customer                0\n",
       "age                               0\n",
       "policy_number                     0\n",
       "policy_bind_date                  0\n",
       "policy_state                      0\n",
       "policy_csl                        0\n",
       "policy_deductable                 0\n",
       "policy_annual_premium             0\n",
       "umbrella_limit                    0\n",
       "insured_zip                       0\n",
       "insured_sex                       0\n",
       "insured_education_level           0\n",
       "insured_occupation                0\n",
       "insured_hobbies                   0\n",
       "insured_relationship              0\n",
       "capital-gains                     0\n",
       "capital-loss                      0\n",
       "incident_date                     0\n",
       "incident_type                     0\n",
       "collision_type                  178\n",
       "incident_severity                 0\n",
       "authorities_contacted            91\n",
       "incident_state                    0\n",
       "incident_city                     0\n",
       "incident_location                 0\n",
       "incident_hour_of_the_day          0\n",
       "number_of_vehicles_involved       0\n",
       "property_damage                 360\n",
       "bodily_injuries                   0\n",
       "witnesses                         0\n",
       "police_report_available         343\n",
       "total_claim_amount                0\n",
       "injury_claim                      0\n",
       "property_claim                    0\n",
       "vehicle_claim                     0\n",
       "auto_make                         0\n",
       "auto_model                        0\n",
       "auto_year                         0\n",
       "fraud_reported                    0\n",
       "_c39                           1000\n",
       "dtype: int64"
      ]
     },
     "execution_count": 201,
     "metadata": {},
     "output_type": "execute_result"
    }
   ],
   "source": [
    "# Check the number of missing values in each column\n",
    "df = df.replace('?', np.nan)  # Replace '?' with NaN\n",
    "df.isnull().sum()"
   ]
  },
  {
   "cell_type": "markdown",
   "metadata": {
    "id": "AE6K2iqkDPWb"
   },
   "source": [
    "#### **2.1.2** Handle rows containing null values <font color=\"red\">[1 Mark]</font>"
   ]
  },
  {
   "cell_type": "code",
   "execution_count": 202,
   "metadata": {
    "id": "88PX2r5hDPWb"
   },
   "outputs": [],
   "source": [
    "# Handle the rows containing null values\n",
    "df['collision_type'].fillna(df['collision_type'].mode()[0], inplace=True)\n",
    "df['authorities_contacted'].fillna('None', inplace=True)\n",
    "df['property_damage'].fillna('Unknown', inplace=True)\n",
    "df['police_report_available'].fillna('Not Available', inplace=True)\n"
   ]
  },
  {
   "cell_type": "markdown",
   "metadata": {
    "id": "202JyqOjDPWb"
   },
   "source": [
    "### **2.2 Identify and handle redundant values and columns** <font color = red>[5 marks]</font>"
   ]
  },
  {
   "cell_type": "markdown",
   "metadata": {
    "id": "fSh2wYZoDPWb"
   },
   "source": [
    "#### **2.2.1** Examine the columns to determine if any value or column needs to be treated <font color=\"red\">[2 Mark]</font>"
   ]
  },
  {
   "cell_type": "code",
   "execution_count": 205,
   "metadata": {
    "id": "1x0Cn8BiDPWb"
   },
   "outputs": [
    {
     "name": "stdout",
     "output_type": "stream",
     "text": [
      "Column: months_as_customer\n",
      "months_as_customer\n",
      "194    8\n",
      "285    7\n",
      "254    7\n",
      "101    7\n",
      "128    7\n",
      "      ..\n",
      "372    1\n",
      "213    1\n",
      "240    1\n",
      "50     1\n",
      "17     1\n",
      "Name: count, Length: 391, dtype: int64\n",
      "--------------------------------------------------\n",
      "Column: age\n",
      "age\n",
      "43    49\n",
      "39    48\n",
      "41    45\n",
      "34    44\n",
      "31    42\n",
      "38    42\n",
      "30    42\n",
      "37    41\n",
      "33    39\n",
      "40    38\n",
      "32    38\n",
      "29    35\n",
      "46    33\n",
      "42    32\n",
      "35    32\n",
      "44    32\n",
      "36    32\n",
      "28    30\n",
      "26    26\n",
      "45    26\n",
      "48    25\n",
      "47    24\n",
      "27    24\n",
      "57    16\n",
      "55    14\n",
      "49    14\n",
      "25    14\n",
      "50    13\n",
      "53    13\n",
      "61    10\n",
      "24    10\n",
      "54    10\n",
      "51     9\n",
      "60     9\n",
      "56     8\n",
      "58     8\n",
      "23     7\n",
      "21     6\n",
      "59     5\n",
      "62     4\n",
      "52     4\n",
      "64     2\n",
      "63     2\n",
      "19     1\n",
      "20     1\n",
      "22     1\n",
      "Name: count, dtype: int64\n",
      "--------------------------------------------------\n",
      "Column: policy_number\n",
      "policy_number\n",
      "556080    1\n",
      "521585    1\n",
      "342868    1\n",
      "687698    1\n",
      "227811    1\n",
      "         ..\n",
      "842643    1\n",
      "214618    1\n",
      "543610    1\n",
      "636550    1\n",
      "485665    1\n",
      "Name: count, Length: 1000, dtype: int64\n",
      "--------------------------------------------------\n",
      "Column: policy_bind_date\n",
      "policy_bind_date\n",
      "1992-08-05    3\n",
      "2006-01-01    3\n",
      "1992-04-28    3\n",
      "2004-01-03    2\n",
      "1995-12-07    2\n",
      "             ..\n",
      "1991-07-16    1\n",
      "2014-01-05    1\n",
      "2003-02-17    1\n",
      "2011-11-18    1\n",
      "2004-06-14    1\n",
      "Name: count, Length: 951, dtype: int64\n",
      "--------------------------------------------------\n",
      "Column: policy_state\n",
      "policy_state\n",
      "OH    352\n",
      "IL    338\n",
      "IN    310\n",
      "Name: count, dtype: int64\n",
      "--------------------------------------------------\n",
      "Column: policy_csl\n",
      "policy_csl\n",
      "250/500     351\n",
      "100/300     349\n",
      "500/1000    300\n",
      "Name: count, dtype: int64\n",
      "--------------------------------------------------\n",
      "Column: policy_deductable\n",
      "policy_deductable\n",
      "1000    351\n",
      "500     342\n",
      "2000    307\n",
      "Name: count, dtype: int64\n",
      "--------------------------------------------------\n",
      "Column: policy_annual_premium\n",
      "policy_annual_premium\n",
      "1073.83    2\n",
      "1074.07    2\n",
      "1215.36    2\n",
      "1362.87    2\n",
      "1558.29    2\n",
      "          ..\n",
      "1310.80    1\n",
      "1436.79    1\n",
      "1383.49    1\n",
      "1356.92    1\n",
      "1413.14    1\n",
      "Name: count, Length: 991, dtype: int64\n",
      "--------------------------------------------------\n",
      "Column: umbrella_limit\n",
      "umbrella_limit\n",
      " 0           798\n",
      " 6000000      57\n",
      " 5000000      46\n",
      " 4000000      39\n",
      " 7000000      29\n",
      " 3000000      12\n",
      " 8000000       8\n",
      " 9000000       5\n",
      " 2000000       3\n",
      " 10000000      2\n",
      "-1000000       1\n",
      "Name: count, dtype: int64\n",
      "--------------------------------------------------\n",
      "Column: insured_zip\n",
      "insured_zip\n",
      "477695    2\n",
      "456602    2\n",
      "469429    2\n",
      "446895    2\n",
      "431202    2\n",
      "         ..\n",
      "431289    1\n",
      "608177    1\n",
      "442797    1\n",
      "441714    1\n",
      "612260    1\n",
      "Name: count, Length: 995, dtype: int64\n",
      "--------------------------------------------------\n",
      "Column: insured_sex\n",
      "insured_sex\n",
      "FEMALE    537\n",
      "MALE      463\n",
      "Name: count, dtype: int64\n",
      "--------------------------------------------------\n",
      "Column: insured_education_level\n",
      "insured_education_level\n",
      "JD             161\n",
      "High School    160\n",
      "Associate      145\n",
      "MD             144\n",
      "Masters        143\n",
      "PhD            125\n",
      "College        122\n",
      "Name: count, dtype: int64\n",
      "--------------------------------------------------\n",
      "Column: insured_occupation\n",
      "insured_occupation\n",
      "machine-op-inspct    93\n",
      "prof-specialty       85\n",
      "tech-support         78\n",
      "sales                76\n",
      "exec-managerial      76\n",
      "craft-repair         74\n",
      "transport-moving     72\n",
      "priv-house-serv      71\n",
      "other-service        71\n",
      "armed-forces         69\n",
      "adm-clerical         65\n",
      "protective-serv      63\n",
      "handlers-cleaners    54\n",
      "farming-fishing      53\n",
      "Name: count, dtype: int64\n",
      "--------------------------------------------------\n",
      "Column: insured_hobbies\n",
      "insured_hobbies\n",
      "reading           64\n",
      "exercise          57\n",
      "paintball         57\n",
      "bungie-jumping    56\n",
      "movies            55\n",
      "camping           55\n",
      "golf              55\n",
      "kayaking          54\n",
      "yachting          53\n",
      "hiking            52\n",
      "video-games       50\n",
      "base-jumping      49\n",
      "skydiving         49\n",
      "board-games       48\n",
      "polo              47\n",
      "chess             46\n",
      "dancing           43\n",
      "sleeping          41\n",
      "cross-fit         35\n",
      "basketball        34\n",
      "Name: count, dtype: int64\n",
      "--------------------------------------------------\n",
      "Column: insured_relationship\n",
      "insured_relationship\n",
      "own-child         183\n",
      "other-relative    177\n",
      "not-in-family     174\n",
      "husband           170\n",
      "wife              155\n",
      "unmarried         141\n",
      "Name: count, dtype: int64\n",
      "--------------------------------------------------\n",
      "Column: capital-gains\n",
      "capital-gains\n",
      "0        508\n",
      "46300      5\n",
      "68500      4\n",
      "51500      4\n",
      "67800      3\n",
      "        ... \n",
      "30800      1\n",
      "42300      1\n",
      "12800      1\n",
      "69900      1\n",
      "50300      1\n",
      "Name: count, Length: 338, dtype: int64\n",
      "--------------------------------------------------\n",
      "Column: capital-loss\n",
      "capital-loss\n",
      " 0        475\n",
      "-53700      5\n",
      "-50300      5\n",
      "-31700      5\n",
      "-61400      4\n",
      "         ... \n",
      "-65500      1\n",
      "-15900      1\n",
      "-61200      1\n",
      "-32200      1\n",
      "-82100      1\n",
      "Name: count, Length: 354, dtype: int64\n",
      "--------------------------------------------------\n",
      "Column: incident_date\n",
      "incident_date\n",
      "2015-02-02    28\n",
      "2015-02-17    26\n",
      "2015-01-07    25\n",
      "2015-01-24    24\n",
      "2015-02-04    24\n",
      "2015-01-10    24\n",
      "2015-01-19    23\n",
      "2015-01-08    22\n",
      "2015-01-13    21\n",
      "2015-01-30    21\n",
      "2015-02-22    20\n",
      "2015-02-12    20\n",
      "2015-02-06    20\n",
      "2015-01-31    20\n",
      "2015-01-14    19\n",
      "2015-01-12    19\n",
      "2015-02-23    19\n",
      "2015-02-21    19\n",
      "2015-01-01    19\n",
      "2015-01-21    19\n",
      "2015-02-28    18\n",
      "2015-01-18    18\n",
      "2015-01-03    18\n",
      "2015-01-20    18\n",
      "2015-02-25    18\n",
      "2015-02-14    18\n",
      "2015-02-01    18\n",
      "2015-01-09    17\n",
      "2015-02-24    17\n",
      "2015-02-26    17\n",
      "2015-02-08    17\n",
      "2015-01-06    17\n",
      "2015-02-13    16\n",
      "2015-02-05    16\n",
      "2015-02-16    16\n",
      "2015-01-16    16\n",
      "2015-02-15    16\n",
      "2015-01-15    15\n",
      "2015-01-28    15\n",
      "2015-02-18    15\n",
      "2015-01-17    15\n",
      "2015-02-20    14\n",
      "2015-02-27    14\n",
      "2015-01-22    14\n",
      "2015-02-03    13\n",
      "2015-01-23    13\n",
      "2015-02-09    13\n",
      "2015-01-27    13\n",
      "2015-01-04    12\n",
      "2015-03-01    12\n",
      "2015-01-29    11\n",
      "2015-01-02    11\n",
      "2015-01-26    11\n",
      "2015-02-11    10\n",
      "2015-01-25    10\n",
      "2015-02-10    10\n",
      "2015-02-19    10\n",
      "2015-02-07    10\n",
      "2015-01-11     9\n",
      "2015-01-05     7\n",
      "Name: count, dtype: int64\n",
      "--------------------------------------------------\n",
      "Column: incident_type\n",
      "incident_type\n",
      "Multi-vehicle Collision     419\n",
      "Single Vehicle Collision    403\n",
      "Vehicle Theft                94\n",
      "Parked Car                   84\n",
      "Name: count, dtype: int64\n",
      "--------------------------------------------------\n",
      "Column: collision_type\n",
      "collision_type\n",
      "Rear Collision     470\n",
      "Side Collision     276\n",
      "Front Collision    254\n",
      "Name: count, dtype: int64\n",
      "--------------------------------------------------\n",
      "Column: incident_severity\n",
      "incident_severity\n",
      "Minor Damage      354\n",
      "Total Loss        280\n",
      "Major Damage      276\n",
      "Trivial Damage     90\n",
      "Name: count, dtype: int64\n",
      "--------------------------------------------------\n",
      "Column: authorities_contacted\n",
      "authorities_contacted\n",
      "Police       292\n",
      "Fire         223\n",
      "Other        198\n",
      "Ambulance    196\n",
      "None          91\n",
      "Name: count, dtype: int64\n",
      "--------------------------------------------------\n",
      "Column: incident_state\n",
      "incident_state\n",
      "NY    262\n",
      "SC    248\n",
      "WV    217\n",
      "VA    110\n",
      "NC    110\n",
      "PA     30\n",
      "OH     23\n",
      "Name: count, dtype: int64\n",
      "--------------------------------------------------\n",
      "Column: incident_city\n",
      "incident_city\n",
      "Springfield    157\n",
      "Arlington      152\n",
      "Columbus       149\n",
      "Northbend      145\n",
      "Hillsdale      141\n",
      "Riverwood      134\n",
      "Northbrook     122\n",
      "Name: count, dtype: int64\n",
      "--------------------------------------------------\n",
      "Column: incident_location\n",
      "incident_location\n",
      "1416 Cherokee Ridge    1\n",
      "9935 4th Drive         1\n",
      "6608 MLK Hwy           1\n",
      "7121 Francis Lane      1\n",
      "6956 Maple Drive       1\n",
      "                      ..\n",
      "6655 5th Drive         1\n",
      "5971 5th Hwy           1\n",
      "1558 1st Ridge         1\n",
      "3066 Francis Ave       1\n",
      "4872 Rock Ridge        1\n",
      "Name: count, Length: 1000, dtype: int64\n",
      "--------------------------------------------------\n",
      "Column: incident_hour_of_the_day\n",
      "incident_hour_of_the_day\n",
      "17    54\n",
      "3     53\n",
      "0     52\n",
      "23    51\n",
      "16    49\n",
      "4     46\n",
      "10    46\n",
      "13    46\n",
      "6     44\n",
      "14    43\n",
      "9     43\n",
      "21    42\n",
      "18    41\n",
      "7     40\n",
      "12    40\n",
      "19    40\n",
      "15    39\n",
      "22    38\n",
      "8     36\n",
      "20    34\n",
      "5     33\n",
      "2     31\n",
      "11    30\n",
      "1     29\n",
      "Name: count, dtype: int64\n",
      "--------------------------------------------------\n",
      "Column: number_of_vehicles_involved\n",
      "number_of_vehicles_involved\n",
      "1    581\n",
      "3    358\n",
      "4     31\n",
      "2     30\n",
      "Name: count, dtype: int64\n",
      "--------------------------------------------------\n",
      "Column: property_damage\n",
      "property_damage\n",
      "Unknown    360\n",
      "NO         338\n",
      "YES        302\n",
      "Name: count, dtype: int64\n",
      "--------------------------------------------------\n",
      "Column: bodily_injuries\n",
      "bodily_injuries\n",
      "0    340\n",
      "2    332\n",
      "1    328\n",
      "Name: count, dtype: int64\n",
      "--------------------------------------------------\n",
      "Column: witnesses\n",
      "witnesses\n",
      "1    258\n",
      "2    250\n",
      "0    249\n",
      "3    243\n",
      "Name: count, dtype: int64\n",
      "--------------------------------------------------\n",
      "Column: police_report_available\n",
      "police_report_available\n",
      "Not Available    343\n",
      "NO               343\n",
      "YES              314\n",
      "Name: count, dtype: int64\n",
      "--------------------------------------------------\n",
      "Column: total_claim_amount\n",
      "total_claim_amount\n",
      "59400    5\n",
      "44200    4\n",
      "3190     4\n",
      "75400    4\n",
      "70400    4\n",
      "        ..\n",
      "4800     1\n",
      "80080    1\n",
      "7590     1\n",
      "45180    1\n",
      "89520    1\n",
      "Name: count, Length: 763, dtype: int64\n",
      "--------------------------------------------------\n",
      "Column: injury_claim\n",
      "injury_claim\n",
      "0        25\n",
      "640       7\n",
      "480       7\n",
      "5540      5\n",
      "860       5\n",
      "         ..\n",
      "14560     1\n",
      "7980      1\n",
      "3880      1\n",
      "13200     1\n",
      "6790      1\n",
      "Name: count, Length: 638, dtype: int64\n",
      "--------------------------------------------------\n",
      "Column: property_claim\n",
      "property_claim\n",
      "0        19\n",
      "860       6\n",
      "11080     5\n",
      "480       5\n",
      "650       5\n",
      "         ..\n",
      "10400     1\n",
      "4020      1\n",
      "7910      1\n",
      "14560     1\n",
      "6430      1\n",
      "Name: count, Length: 626, dtype: int64\n",
      "--------------------------------------------------\n",
      "Column: vehicle_claim\n",
      "vehicle_claim\n",
      "5040     7\n",
      "3360     6\n",
      "4720     5\n",
      "44800    5\n",
      "3600     5\n",
      "        ..\n",
      "42390    1\n",
      "79560    1\n",
      "32900    1\n",
      "22160    1\n",
      "32830    1\n",
      "Name: count, Length: 726, dtype: int64\n",
      "--------------------------------------------------\n",
      "Column: auto_make\n",
      "auto_make\n",
      "Saab          80\n",
      "Dodge         80\n",
      "Suburu        80\n",
      "Nissan        78\n",
      "Chevrolet     76\n",
      "Ford          72\n",
      "BMW           72\n",
      "Toyota        70\n",
      "Audi          69\n",
      "Accura        68\n",
      "Volkswagen    68\n",
      "Jeep          67\n",
      "Mercedes      65\n",
      "Honda         55\n",
      "Name: count, dtype: int64\n",
      "--------------------------------------------------\n",
      "Column: auto_model\n",
      "auto_model\n",
      "RAM               43\n",
      "Wrangler          42\n",
      "A3                37\n",
      "Neon              37\n",
      "MDX               36\n",
      "Jetta             35\n",
      "Passat            33\n",
      "Legacy            32\n",
      "A5                32\n",
      "Pathfinder        31\n",
      "Malibu            30\n",
      "92x               28\n",
      "Camry             28\n",
      "Forrestor         28\n",
      "E400              27\n",
      "95                27\n",
      "F150              27\n",
      "Grand Cherokee    25\n",
      "93                25\n",
      "Escape            24\n",
      "Tahoe             24\n",
      "Maxima            24\n",
      "Ultima            23\n",
      "X5                23\n",
      "Highlander        22\n",
      "Civic             22\n",
      "Silverado         22\n",
      "Fusion            21\n",
      "ML350             20\n",
      "TL                20\n",
      "Impreza           20\n",
      "Corolla           20\n",
      "CRV               20\n",
      "C300              18\n",
      "3 Series          18\n",
      "X6                16\n",
      "M5                15\n",
      "Accord            13\n",
      "RSX               12\n",
      "Name: count, dtype: int64\n",
      "--------------------------------------------------\n",
      "Column: auto_year\n",
      "auto_year\n",
      "1995    56\n",
      "1999    55\n",
      "2005    54\n",
      "2006    53\n",
      "2011    53\n",
      "2007    52\n",
      "2003    51\n",
      "2009    50\n",
      "2010    50\n",
      "2013    49\n",
      "2002    49\n",
      "2015    47\n",
      "1997    46\n",
      "2012    46\n",
      "2008    45\n",
      "2014    44\n",
      "2001    42\n",
      "2000    42\n",
      "1998    40\n",
      "2004    39\n",
      "1996    37\n",
      "Name: count, dtype: int64\n",
      "--------------------------------------------------\n",
      "Column: fraud_reported\n",
      "fraud_reported\n",
      "N    753\n",
      "Y    247\n",
      "Name: count, dtype: int64\n",
      "--------------------------------------------------\n",
      "Column: _c39\n",
      "Series([], Name: count, dtype: int64)\n",
      "--------------------------------------------------\n",
      "No redundant columns found.\n"
     ]
    }
   ],
   "source": [
    "# Write code to display all the columns with their unique values and counts and check for redundant values\n",
    "for column in df.columns:\n",
    "    unique_values = df[column].value_counts()\n",
    "    print(f\"Column: {column}\")\n",
    "    print(unique_values)\n",
    "    print(\"-\" * 50)\n",
    "\n",
    "redundant_columns = [col for col in df.columns if df[col].nunique() == 1]\n",
    "if redundant_columns:\n",
    "    print(\"Redundant Columns (only one unique value in the entire column):\")\n",
    "    print(redundant_columns)\n",
    "else:\n",
    "    print(\"No redundant columns found.\")"
   ]
  },
  {
   "cell_type": "markdown",
   "metadata": {
    "id": "RRIhr3ZwDPWb"
   },
   "source": [
    "#### **2.2.2** Identify and drop any columns that are completely empty <font color=\"red\">[1 Mark]</font>"
   ]
  },
  {
   "cell_type": "code",
   "execution_count": 206,
   "metadata": {
    "id": "9vLZf8ExDPWb"
   },
   "outputs": [
    {
     "data": {
      "text/plain": [
       "['_c39']"
      ]
     },
     "execution_count": 206,
     "metadata": {},
     "output_type": "execute_result"
    }
   ],
   "source": [
    "# Identify and drop any columns that are completely empty\n",
    "empty_cols = [col for col in df.columns if df[col].isnull().all()]\n",
    "df.drop(columns=empty_cols, inplace=True)\n",
    "empty_cols"
   ]
  },
  {
   "cell_type": "markdown",
   "metadata": {
    "id": "1Cx8douODPWd"
   },
   "source": [
    "#### **2.2.3** Identify and drop rows where features have illogical or invalid values, such as negative values for features that should only have positive values <font color=\"red\">[1 Mark]</font>"
   ]
  },
  {
   "cell_type": "code",
   "execution_count": 207,
   "metadata": {
    "id": "U5oARc23DPWd"
   },
   "outputs": [
    {
     "name": "stdout",
     "output_type": "stream",
     "text": [
      "Shape after dropping rows with invalid (negative) values: (474, 39)\n"
     ]
    }
   ],
   "source": [
    "# Identify and drop rows where features have illogical or invalid values, such as negative values for features that should only have positive values\n",
    "\n",
    "# List of columns that should only have positive values\n",
    "positive_cols = [\n",
    "    'months_as_customer', 'age', 'policy_deductable', 'policy_annual_premium',\n",
    "    'umbrella_limit', 'capital-gains', 'capital-loss', 'incident_hour_of_the_day',\n",
    "    'number_of_vehicles_involved', 'bodily_injuries', 'witnesses',\n",
    "    'total_claim_amount', 'injury_claim', 'property_claim', 'vehicle_claim', 'auto_year'\n",
    "]\n",
    "\n",
    "for col in positive_cols:\n",
    "    if col in df.columns:\n",
    "        df = df[df[col].astype(float) >= 0]\n",
    "\n",
    "print(\"Shape after dropping rows with invalid (negative) values:\", df.shape)"
   ]
  },
  {
   "cell_type": "markdown",
   "metadata": {
    "id": "XTGMKeeNDPWd"
   },
   "source": [
    "#### **2.2.4** Identify and remove columns where a large proportion of the values are unique or near-unique, as these columns are likely to be identifiers or have very limited predictive power <font color=\"red\">[1 Mark]</font>"
   ]
  },
  {
   "cell_type": "code",
   "execution_count": 208,
   "metadata": {
    "id": "U4LXO65UDPWd"
   },
   "outputs": [
    {
     "name": "stdout",
     "output_type": "stream",
     "text": [
      "Columns with high proportion of unique values (likely identifiers): ['policy_number', 'policy_bind_date', 'policy_annual_premium', 'insured_zip', 'incident_location']\n"
     ]
    }
   ],
   "source": [
    "# Identify and remove columns that are likely to be identifiers or have very limited predictive power\n",
    "\n",
    "# Threshold: if more than 90% of values are unique, consider as identifier/low predictive power\n",
    "unique_threshold = 0.9\n",
    "\n",
    "high_unique_cols = [col for col in df.columns if df[col].nunique() / df.shape[0] > unique_threshold]\n",
    "print(\"Columns with high proportion of unique values (likely identifiers):\", high_unique_cols)\n",
    "\n",
    "# Drop these columns\n",
    "df.drop(columns=high_unique_cols, inplace=True)"
   ]
  },
  {
   "cell_type": "code",
   "execution_count": 209,
   "metadata": {
    "id": "KzHx2BzPDPWd"
   },
   "outputs": [
    {
     "data": {
      "text/html": [
       "<div>\n",
       "<style scoped>\n",
       "    .dataframe tbody tr th:only-of-type {\n",
       "        vertical-align: middle;\n",
       "    }\n",
       "\n",
       "    .dataframe tbody tr th {\n",
       "        vertical-align: top;\n",
       "    }\n",
       "\n",
       "    .dataframe thead th {\n",
       "        text-align: right;\n",
       "    }\n",
       "</style>\n",
       "<table border=\"1\" class=\"dataframe\">\n",
       "  <thead>\n",
       "    <tr style=\"text-align: right;\">\n",
       "      <th></th>\n",
       "      <th>months_as_customer</th>\n",
       "      <th>age</th>\n",
       "      <th>policy_state</th>\n",
       "      <th>policy_csl</th>\n",
       "      <th>policy_deductable</th>\n",
       "      <th>umbrella_limit</th>\n",
       "      <th>insured_sex</th>\n",
       "      <th>insured_education_level</th>\n",
       "      <th>insured_occupation</th>\n",
       "      <th>insured_hobbies</th>\n",
       "      <th>...</th>\n",
       "      <th>witnesses</th>\n",
       "      <th>police_report_available</th>\n",
       "      <th>total_claim_amount</th>\n",
       "      <th>injury_claim</th>\n",
       "      <th>property_claim</th>\n",
       "      <th>vehicle_claim</th>\n",
       "      <th>auto_make</th>\n",
       "      <th>auto_model</th>\n",
       "      <th>auto_year</th>\n",
       "      <th>fraud_reported</th>\n",
       "    </tr>\n",
       "  </thead>\n",
       "  <tbody>\n",
       "    <tr>\n",
       "      <th>0</th>\n",
       "      <td>328</td>\n",
       "      <td>48</td>\n",
       "      <td>OH</td>\n",
       "      <td>250/500</td>\n",
       "      <td>1000</td>\n",
       "      <td>0</td>\n",
       "      <td>MALE</td>\n",
       "      <td>MD</td>\n",
       "      <td>craft-repair</td>\n",
       "      <td>sleeping</td>\n",
       "      <td>...</td>\n",
       "      <td>2</td>\n",
       "      <td>YES</td>\n",
       "      <td>71610</td>\n",
       "      <td>6510</td>\n",
       "      <td>13020</td>\n",
       "      <td>52080</td>\n",
       "      <td>Saab</td>\n",
       "      <td>92x</td>\n",
       "      <td>2004</td>\n",
       "      <td>Y</td>\n",
       "    </tr>\n",
       "    <tr>\n",
       "      <th>1</th>\n",
       "      <td>228</td>\n",
       "      <td>42</td>\n",
       "      <td>IN</td>\n",
       "      <td>250/500</td>\n",
       "      <td>2000</td>\n",
       "      <td>5000000</td>\n",
       "      <td>MALE</td>\n",
       "      <td>MD</td>\n",
       "      <td>machine-op-inspct</td>\n",
       "      <td>reading</td>\n",
       "      <td>...</td>\n",
       "      <td>0</td>\n",
       "      <td>Not Available</td>\n",
       "      <td>5070</td>\n",
       "      <td>780</td>\n",
       "      <td>780</td>\n",
       "      <td>3510</td>\n",
       "      <td>Mercedes</td>\n",
       "      <td>E400</td>\n",
       "      <td>2007</td>\n",
       "      <td>Y</td>\n",
       "    </tr>\n",
       "    <tr>\n",
       "      <th>2</th>\n",
       "      <td>134</td>\n",
       "      <td>29</td>\n",
       "      <td>OH</td>\n",
       "      <td>100/300</td>\n",
       "      <td>2000</td>\n",
       "      <td>5000000</td>\n",
       "      <td>FEMALE</td>\n",
       "      <td>PhD</td>\n",
       "      <td>sales</td>\n",
       "      <td>board-games</td>\n",
       "      <td>...</td>\n",
       "      <td>3</td>\n",
       "      <td>NO</td>\n",
       "      <td>34650</td>\n",
       "      <td>7700</td>\n",
       "      <td>3850</td>\n",
       "      <td>23100</td>\n",
       "      <td>Dodge</td>\n",
       "      <td>RAM</td>\n",
       "      <td>2007</td>\n",
       "      <td>N</td>\n",
       "    </tr>\n",
       "    <tr>\n",
       "      <th>5</th>\n",
       "      <td>256</td>\n",
       "      <td>39</td>\n",
       "      <td>OH</td>\n",
       "      <td>250/500</td>\n",
       "      <td>1000</td>\n",
       "      <td>0</td>\n",
       "      <td>FEMALE</td>\n",
       "      <td>PhD</td>\n",
       "      <td>tech-support</td>\n",
       "      <td>bungie-jumping</td>\n",
       "      <td>...</td>\n",
       "      <td>2</td>\n",
       "      <td>NO</td>\n",
       "      <td>64100</td>\n",
       "      <td>6410</td>\n",
       "      <td>6410</td>\n",
       "      <td>51280</td>\n",
       "      <td>Saab</td>\n",
       "      <td>95</td>\n",
       "      <td>2003</td>\n",
       "      <td>Y</td>\n",
       "    </tr>\n",
       "    <tr>\n",
       "      <th>7</th>\n",
       "      <td>165</td>\n",
       "      <td>37</td>\n",
       "      <td>IL</td>\n",
       "      <td>100/300</td>\n",
       "      <td>1000</td>\n",
       "      <td>0</td>\n",
       "      <td>MALE</td>\n",
       "      <td>Associate</td>\n",
       "      <td>tech-support</td>\n",
       "      <td>base-jumping</td>\n",
       "      <td>...</td>\n",
       "      <td>2</td>\n",
       "      <td>YES</td>\n",
       "      <td>51590</td>\n",
       "      <td>9380</td>\n",
       "      <td>9380</td>\n",
       "      <td>32830</td>\n",
       "      <td>Audi</td>\n",
       "      <td>A5</td>\n",
       "      <td>2015</td>\n",
       "      <td>N</td>\n",
       "    </tr>\n",
       "  </tbody>\n",
       "</table>\n",
       "<p>5 rows × 34 columns</p>\n",
       "</div>"
      ],
      "text/plain": [
       "   months_as_customer  age policy_state policy_csl  policy_deductable  \\\n",
       "0                 328   48           OH    250/500               1000   \n",
       "1                 228   42           IN    250/500               2000   \n",
       "2                 134   29           OH    100/300               2000   \n",
       "5                 256   39           OH    250/500               1000   \n",
       "7                 165   37           IL    100/300               1000   \n",
       "\n",
       "   umbrella_limit insured_sex insured_education_level insured_occupation  \\\n",
       "0               0        MALE                      MD       craft-repair   \n",
       "1         5000000        MALE                      MD  machine-op-inspct   \n",
       "2         5000000      FEMALE                     PhD              sales   \n",
       "5               0      FEMALE                     PhD       tech-support   \n",
       "7               0        MALE               Associate       tech-support   \n",
       "\n",
       "  insured_hobbies  ... witnesses  police_report_available  total_claim_amount  \\\n",
       "0        sleeping  ...         2                      YES               71610   \n",
       "1         reading  ...         0            Not Available                5070   \n",
       "2     board-games  ...         3                       NO               34650   \n",
       "5  bungie-jumping  ...         2                       NO               64100   \n",
       "7    base-jumping  ...         2                      YES               51590   \n",
       "\n",
       "  injury_claim property_claim vehicle_claim auto_make auto_model auto_year  \\\n",
       "0         6510          13020         52080      Saab        92x      2004   \n",
       "1          780            780          3510  Mercedes       E400      2007   \n",
       "2         7700           3850         23100     Dodge        RAM      2007   \n",
       "5         6410           6410         51280      Saab         95      2003   \n",
       "7         9380           9380         32830      Audi         A5      2015   \n",
       "\n",
       "  fraud_reported  \n",
       "0              Y  \n",
       "1              Y  \n",
       "2              N  \n",
       "5              Y  \n",
       "7              N  \n",
       "\n",
       "[5 rows x 34 columns]"
      ]
     },
     "execution_count": 209,
     "metadata": {},
     "output_type": "execute_result"
    }
   ],
   "source": [
    "# Check the dataset\n",
    "df.head()"
   ]
  },
  {
   "cell_type": "markdown",
   "metadata": {
    "id": "nAvSdxKBDPWe"
   },
   "source": [
    "### **2.3 Fix Data Types** <font color = red>[3 marks]</font>\n",
    "Carefully examine the dataset and identify columns that contain date or time information but are not stored as the appropriate data type. Convert these columns to the correct datetime data type to enable proper analysis and manipulation of temporal information."
   ]
  },
  {
   "cell_type": "code",
   "execution_count": 112,
   "metadata": {
    "id": "WIycvsINDPWe"
   },
   "outputs": [],
   "source": [
    "# Fix the data types of the columns with incorrect data types\n"
   ]
  },
  {
   "cell_type": "code",
   "execution_count": 113,
   "metadata": {
    "id": "kl0jWZNEDPWe"
   },
   "outputs": [],
   "source": [
    "# Check the features of the data again\n"
   ]
  },
  {
   "cell_type": "markdown",
   "metadata": {
    "id": "nXS8rflQDPWe"
   },
   "source": [
    "## **3. Train-Validation Split** <font color = red>[5 marks]</font>"
   ]
  },
  {
   "cell_type": "markdown",
   "metadata": {
    "id": "9qOELXFYDPWe"
   },
   "source": [
    "### **3.1 Import required libraries**  "
   ]
  },
  {
   "cell_type": "code",
   "execution_count": 114,
   "metadata": {
    "id": "-vJKP7g0DPWe"
   },
   "outputs": [],
   "source": [
    "# Import train-test-split\n",
    "from sklearn.model_selection import train_test_split"
   ]
  },
  {
   "cell_type": "markdown",
   "metadata": {
    "id": "-MdKqcZ-DPWe"
   },
   "source": [
    "### **3.2 Define feature and target variables** <font color = red>[2 Marks]</font>"
   ]
  },
  {
   "cell_type": "code",
   "execution_count": 115,
   "metadata": {
    "id": "qacdKTt1DPWj"
   },
   "outputs": [],
   "source": [
    "# Put all the feature variables in X\n",
    "\n",
    "# Put the target variable in y\n"
   ]
  },
  {
   "cell_type": "markdown",
   "metadata": {
    "id": "t2JaDNlsDPWj"
   },
   "source": [
    "### **3.3 Split the data** <font color=\"red\">[3 Marks]</font>"
   ]
  },
  {
   "cell_type": "code",
   "execution_count": 116,
   "metadata": {
    "id": "7_mMlbt7DPWj"
   },
   "outputs": [],
   "source": [
    "# Split the dataset into 70% train and 30% validation and use stratification on the target variable\n",
    "\n",
    "# Reset index for all train and test sets\n"
   ]
  },
  {
   "cell_type": "markdown",
   "metadata": {
    "id": "4E_xpebIDPWk"
   },
   "source": [
    "## **4. EDA on training data** <font color = red>[20 marks]</font>"
   ]
  },
  {
   "cell_type": "markdown",
   "metadata": {
    "id": "xDNn7iBADPWk"
   },
   "source": [
    "### **4.1 Perform univariate analysis** <font color = red>[5 marks]</font>"
   ]
  },
  {
   "cell_type": "markdown",
   "metadata": {
    "id": "aVLeqhcADPWk"
   },
   "source": [
    "#### **4.1.1** Identify and select numerical columns from training data for univariate analysis <font color = \"red\">[1 Mark]</font>"
   ]
  },
  {
   "cell_type": "code",
   "execution_count": 117,
   "metadata": {
    "id": "bR9ulzRsDPWk"
   },
   "outputs": [],
   "source": [
    "# Select numerical columns\n"
   ]
  },
  {
   "cell_type": "markdown",
   "metadata": {
    "id": "wP4icMhPDPWk"
   },
   "source": [
    "#### **4.1.2** Visualise the distribution of selected numerical features using appropriate plots to understand their characteristics <font color = \"red\">[4 Marks]</font>"
   ]
  },
  {
   "cell_type": "code",
   "execution_count": 118,
   "metadata": {
    "id": "ny7woMrmDPWk"
   },
   "outputs": [],
   "source": [
    "# Plot all the numerical columns to understand their distribution\n"
   ]
  },
  {
   "cell_type": "markdown",
   "metadata": {
    "id": "o4UAw5pDDPWl"
   },
   "source": [
    "### **4.2 Perform correlation analysis** <font color=\"red\">[3 Marks]</font>"
   ]
  },
  {
   "cell_type": "markdown",
   "metadata": {
    "id": "ySJiTDdxDPWl"
   },
   "source": [
    " Investigate the relationships between numerical features to identify potential multicollinearity or dependencies. Visualise the correlation structure using an appropriate method to gain insights into feature relationships."
   ]
  },
  {
   "cell_type": "code",
   "execution_count": 119,
   "metadata": {
    "id": "_xadGQK7DPWl"
   },
   "outputs": [],
   "source": [
    "# Create correlation matrix for numerical columns\n",
    "\n",
    "# Plot Heatmap of the correlation matrix\n"
   ]
  },
  {
   "cell_type": "markdown",
   "metadata": {
    "id": "ZHQ3du-9DPWl"
   },
   "source": [
    "### **4.3 Check class balance** <font color=\"red\">[2 Marks]</font>"
   ]
  },
  {
   "cell_type": "markdown",
   "metadata": {
    "id": "eTkJHl0xDPWm"
   },
   "source": [
    "Examine the distribution of the target variable to identify potential class imbalances using visualisation for better understanding."
   ]
  },
  {
   "cell_type": "code",
   "execution_count": 120,
   "metadata": {
    "id": "V1QrXZdhDPWm"
   },
   "outputs": [],
   "source": [
    "# Plot a bar chart to check class balance\n"
   ]
  },
  {
   "cell_type": "markdown",
   "metadata": {
    "id": "xFhVKzRHDPWn"
   },
   "source": [
    "### **4.4 Perform bivariate analysis** <font color=\"red\">[10 Marks]</font>"
   ]
  },
  {
   "cell_type": "markdown",
   "metadata": {
    "id": "h0WjamQXDPWn"
   },
   "source": [
    "#### **4.4.1** Target likelihood analysis for categorical variables. <font color=\"red\">[5 Marks]</font>\n",
    "Investigate the relationships between categorical features and the target variable by analysing the target event likelihood (for the `'Y'` event) for each level of every relevant categorical feature. Through this analysis, identify categorical features that do not contribute much in explaining the variation in the target variable."
   ]
  },
  {
   "cell_type": "code",
   "execution_count": 121,
   "metadata": {
    "id": "K1OQJrO5guyw"
   },
   "outputs": [],
   "source": [
    "# Write a function to calculate and analyse the target variable likelihood for categorical features\n"
   ]
  },
  {
   "cell_type": "markdown",
   "metadata": {
    "id": "z6oeg9naDPWo"
   },
   "source": [
    "#### **4.4.2** Explore the relationships between numerical features and the target variable to understand their impact on the target outcome using appropriate visualisation techniques to identify trends and potential interactions. <font color=\"red\">[5 Marks]</font>"
   ]
  },
  {
   "cell_type": "code",
   "execution_count": 122,
   "metadata": {
    "id": "bVXoNozGDPWo"
   },
   "outputs": [],
   "source": [
    "# Visualise the relationship between numerical features and the target variable to understand their impact on the target outcome\n"
   ]
  },
  {
   "cell_type": "markdown",
   "metadata": {
    "id": "OVV4m9OiDPWo"
   },
   "source": [
    "## **5. EDA on validation data** <font color = red>[OPTIONAL]</font>"
   ]
  },
  {
   "cell_type": "markdown",
   "metadata": {
    "id": "hvF11y45DPWo"
   },
   "source": [
    "### **5.1 Perform univariate analysis**"
   ]
  },
  {
   "cell_type": "markdown",
   "metadata": {
    "id": "krLtfiOBDPWo"
   },
   "source": [
    "#### **5.1.1** Identify and select numerical columns from training data for univariate analysis."
   ]
  },
  {
   "cell_type": "code",
   "execution_count": 123,
   "metadata": {
    "id": "RURn5Dp1DPWo"
   },
   "outputs": [],
   "source": [
    "# Select numerical columns\n"
   ]
  },
  {
   "cell_type": "markdown",
   "metadata": {
    "id": "a41PWZrNDPWp"
   },
   "source": [
    "#### **5.1.2** Visualise the distribution of selected numerical features using appropriate plots to understand their characteristics."
   ]
  },
  {
   "cell_type": "code",
   "execution_count": 124,
   "metadata": {
    "id": "DUoPrry8DPWp"
   },
   "outputs": [],
   "source": [
    "# Plot all the numerical columns to understand their distribution\n"
   ]
  },
  {
   "cell_type": "markdown",
   "metadata": {
    "id": "OhvTVXiwDPWp"
   },
   "source": [
    "### **5.2 Perform correlation analysis**"
   ]
  },
  {
   "cell_type": "markdown",
   "metadata": {
    "id": "F5tDAjsNDPWp"
   },
   "source": [
    " Investigate the relationships between numerical features to identify potential multicollinearity or dependencies. Visualise the correlation structure using an appropriate method to gain insights into feature relationships."
   ]
  },
  {
   "cell_type": "code",
   "execution_count": 125,
   "metadata": {
    "id": "C-b6CSy1DPWp"
   },
   "outputs": [],
   "source": [
    "# Create correlation matrix for numerical columns\n",
    "\n",
    "# Plot Heatmap of the correlation matrix\n"
   ]
  },
  {
   "cell_type": "markdown",
   "metadata": {
    "id": "N2ww_JH7DPWp"
   },
   "source": [
    "### **5.3 Check class balance**"
   ]
  },
  {
   "cell_type": "markdown",
   "metadata": {
    "id": "ddcn-VSADPWp"
   },
   "source": [
    "Examine the distribution of the target variable to identify potential class imbalances. Visualise the distribution for better understanding."
   ]
  },
  {
   "cell_type": "code",
   "execution_count": 126,
   "metadata": {
    "id": "5Yvfw9F2DPWq"
   },
   "outputs": [],
   "source": [
    "# Plot a bar chart to check class balance\n"
   ]
  },
  {
   "cell_type": "markdown",
   "metadata": {
    "id": "_pDlcXHxDPWq"
   },
   "source": [
    "### **5.4 Perform bivariate analysis**"
   ]
  },
  {
   "cell_type": "markdown",
   "metadata": {
    "id": "F0UT1kLHDPWq"
   },
   "source": [
    "#### **5.4.1** Target likelihood analysis for categorical variables.\n",
    "Investigate the relationships between categorical features and the target variable by analysing the target event likelihood (for the `'Y'` event) for each level of every relevant categorical feature. Through this analysis, identify categorical features that do not contribute much in explaining the variation in the target variable."
   ]
  },
  {
   "cell_type": "code",
   "execution_count": 127,
   "metadata": {
    "id": "XMe7hHDcDPWr"
   },
   "outputs": [],
   "source": [
    "# Write a function to calculate and analyse the target variable likelihood for categorical features\n"
   ]
  },
  {
   "cell_type": "markdown",
   "metadata": {
    "id": "gCNILHjCDPWr"
   },
   "source": [
    "#### **5.4.2** Explore the relationships between numerical features and the target variable to understand their impact on the target outcome. Utilise appropriate visualisation techniques to identify trends and potential interactions."
   ]
  },
  {
   "cell_type": "code",
   "execution_count": 128,
   "metadata": {
    "id": "NhQl8TJ9DPWr"
   },
   "outputs": [],
   "source": [
    "# Visualise the relationship between numerical features and the target variable to understand their impact on the target outcome\n"
   ]
  },
  {
   "cell_type": "markdown",
   "metadata": {
    "id": "TVb5a63HDPWr"
   },
   "source": [
    "## **6. Feature Engineering** <font color = red>[25 marks]</font>"
   ]
  },
  {
   "cell_type": "markdown",
   "metadata": {
    "id": "F1-lpq1iDPWs"
   },
   "source": [
    "### **6.1 Perform resampling** <font color=\"red\">[3 Marks]</font>"
   ]
  },
  {
   "cell_type": "markdown",
   "metadata": {
    "id": "vV6fEzAADPWs"
   },
   "source": [
    "Handle class imbalance in the training data by applying resampling technique.\n",
    "\n",
    "Use the **RandomOverSampler** technique to balance the data and handle class imbalance. This method increases the number of samples in the minority class by randomly duplicating them, creating synthetic data points with similar characteristics. This helps prevent the model from being biased toward the majority class and improves its ability to predict the minority class more accurately.\n",
    "\n",
    "**Note:** You can try other resampling techniques to handle class imbalance"
   ]
  },
  {
   "cell_type": "code",
   "execution_count": 129,
   "metadata": {
    "id": "ijz0X5bGDPWs"
   },
   "outputs": [],
   "source": [
    "# Import RandomOverSampler from imblearn library\n",
    "from imblearn.over_sampling import RandomOverSampler\n",
    "\n",
    "# Perform resampling on training data\n"
   ]
  },
  {
   "cell_type": "markdown",
   "metadata": {
    "id": "IQ7nY4SLDPWs"
   },
   "source": [
    "### **6.2 Feature Creation** <font color=\"red\">[4 marks]</font>"
   ]
  },
  {
   "cell_type": "markdown",
   "metadata": {
    "id": "PdDUn_sVDPWs"
   },
   "source": [
    "Create new features from existing ones to enhance the model's ability to capture patterns in the data. This may involve deriving features from date/time columns, combining features, or creating interaction terms."
   ]
  },
  {
   "cell_type": "code",
   "execution_count": 130,
   "metadata": {
    "id": "beiDdjl7DPWs"
   },
   "outputs": [],
   "source": [
    "# Create new features based on your understanding for both training and validation data\n"
   ]
  },
  {
   "cell_type": "markdown",
   "metadata": {
    "id": "NbQ6FhLUDPWt"
   },
   "source": [
    "### **6.3 Handle redundant columns** <font color=\"red\">[3 marks]</font>"
   ]
  },
  {
   "cell_type": "markdown",
   "metadata": {
    "id": "zs_uzd9VDPWt"
   },
   "source": [
    "Analyse the data to identify features that may be redundant or contribute minimal information toward predicting the target variable and drop them.\n",
    "\n",
    "- You can consider features that exhibit high correlation with other variables, which you may have observed during the EDA phase.\n",
    "- Features that don't strongly influence the prediction, which you may have observed during the EDA phase.\n",
    "- Categorical columns with low value counts for some levels can be remapped to reduce number of unique levels, and features with very high counts for just one level may be removed, as they resemble unique identifier columns and do not provide substantial predictive value.\n",
    "- Additionally, eliminate any columns from which the necessary features have already been extracted in the preceding step."
   ]
  },
  {
   "cell_type": "code",
   "execution_count": 131,
   "metadata": {
    "id": "9Fy0Rw1BDPWt"
   },
   "outputs": [],
   "source": [
    "# Drop redundant columns from training and validation data\n"
   ]
  },
  {
   "cell_type": "code",
   "execution_count": 132,
   "metadata": {
    "id": "RVYVBV27DPWt"
   },
   "outputs": [],
   "source": [
    "# Check the data\n"
   ]
  },
  {
   "cell_type": "markdown",
   "metadata": {
    "id": "SxA7dZ0UDPWt"
   },
   "source": [
    "### **6.4 Combine values in Categorical Columns** <font color=\"red\">[6 Marks]</font>\n",
    "During the EDA process, categorical columns with multiple unique values may be identified. To enhance model performance, it is essential to refine these categorical features by grouping values that have low frequency or provide limited predictive information.\n",
    "\n",
    "Combine categories that occur infrequently or exhibit similar behavior to reduce sparsity and improve model generalisation."
   ]
  },
  {
   "cell_type": "code",
   "execution_count": 133,
   "metadata": {
    "id": "-OF7Y35dDPWt"
   },
   "outputs": [],
   "source": [
    "# Combine categories that have low frequency or provide limited predictive information\n"
   ]
  },
  {
   "cell_type": "markdown",
   "metadata": {
    "id": "C2vnyJqYDPWt"
   },
   "source": [
    "### **6.5 Dummy variable creation** <font color=\"red\">[6 Marks]</font>\n",
    "Transform categorical variables into numerical representations using dummy variables. Ensure consistent encoding between training and validation data."
   ]
  },
  {
   "cell_type": "markdown",
   "metadata": {
    "id": "pQHnbRB_DPWt"
   },
   "source": [
    "#### **6.5.1** Identify categorical columns for dummy variable creation <font color=\"red\">[1 Mark]</font>"
   ]
  },
  {
   "cell_type": "code",
   "execution_count": 134,
   "metadata": {
    "id": "YCR73H4VDPWt"
   },
   "outputs": [],
   "source": [
    "# Identify the categorical columns for creating dummy variables\n"
   ]
  },
  {
   "cell_type": "markdown",
   "metadata": {
    "id": "ZcCgF0lsDPWu"
   },
   "source": [
    "#### **6.5.2** Create dummy variables for categorical columns in training data <font color=\"red\">[2 Marks]</font>"
   ]
  },
  {
   "cell_type": "code",
   "execution_count": 135,
   "metadata": {
    "id": "JA8seldpDPWu"
   },
   "outputs": [],
   "source": [
    "# Create dummy variables using the 'get_dummies' for categorical columns in training data\n"
   ]
  },
  {
   "cell_type": "markdown",
   "metadata": {
    "id": "cbLlOiYcDPWu"
   },
   "source": [
    "#### **6.5.3** Create dummy variables for categorical columns in validation data <font color=\"red\">[2 Marks]</font>"
   ]
  },
  {
   "cell_type": "code",
   "execution_count": 136,
   "metadata": {
    "id": "zvQ4n9yaDPWu"
   },
   "outputs": [],
   "source": [
    "# Create dummy variables using the 'get_dummies' for categorical columns in validation data\n"
   ]
  },
  {
   "cell_type": "markdown",
   "metadata": {
    "id": "tg5crIDKDPWu"
   },
   "source": [
    "#### **6.5.4** Create dummy variable for dependent feature in training and validation data <font color = \"red\">[1 Mark]</font>"
   ]
  },
  {
   "cell_type": "code",
   "execution_count": 137,
   "metadata": {
    "id": "LyreaJQXDPWu"
   },
   "outputs": [],
   "source": [
    "# Create dummy variable for dependent feature in training data\n",
    "\n",
    "# Create dummy variable for dependent feature in validation data\n"
   ]
  },
  {
   "cell_type": "markdown",
   "metadata": {
    "id": "USXyE8QSDPWu"
   },
   "source": [
    "### **6.6 Feature scaling** <font color = red>[3 marks]</font>\n",
    "Scale numerical features to a common range to prevent features with larger values from dominating the model.  Choose a scaling method appropriate for the data and the chosen model. Apply the same scaling to both training and validation data."
   ]
  },
  {
   "cell_type": "code",
   "execution_count": 138,
   "metadata": {
    "id": "VfE4LXqXDPWu"
   },
   "outputs": [],
   "source": [
    "# Import the necessary scaling tool from scikit-learn\n",
    "\n",
    "# Scale the numeric features present in the training data\n",
    "\n",
    "# Scale the numeric features present in the validation data\n"
   ]
  },
  {
   "cell_type": "markdown",
   "metadata": {
    "id": "pqIhEkpxDPWu"
   },
   "source": [
    "## **7. Model Building** <font color = red>[50 marks]</font>"
   ]
  },
  {
   "cell_type": "markdown",
   "metadata": {
    "id": "i2OLtpZWUmgS"
   },
   "source": [
    "In this task, you will be building two machine learning models: Logistic Regression and Random Forest. Each model will go through a structured process to ensure optimal performance. The key steps for each model are outlined below:\n",
    "\n",
    "**Logistic Regression Model**\n",
    "- Feature Selection using RFECV – Identify the most relevant features using Recursive Feature Elimination with Cross-Validation.\n",
    "- Model Building and Multicollinearity Assessment – Build the logistic regression model and analyse statistical aspects such as p-values and VIFs to detect multicollinearity.\n",
    "- Model Training and Evaluation on Training Data – Fit the model on the training data and assess initial performance.\n",
    "- Finding the Optimal Cutoff – Determine the best probability threshold by analysing the sensitivity-specificity tradeoff and precision-recall tradeoff.\n",
    "- FInal Prediction and Evaluation on Training Data using the Optimal Cutoff – Generate final predictions using the selected cutoff and evaluate model performance.\n",
    "\n",
    "**Random Forest Model**\n",
    "- Get Feature Importances - Obtain the importance scores for each feature and select the important features to train the model.\n",
    "- Model Evaluation on Training Data – Assess performance metrics on the training data.\n",
    "- Check Model Overfitting using Cross-Validation – Evaluate generalisation by performing cross-validation.\n",
    "- Hyperparameter Tuning using Grid Search – Optimise model performance by fine-tuning hyperparameters.\n",
    "- Final Model and Evaluation on Training Data – Train the final model using the best parameters and assess its performance."
   ]
  },
  {
   "cell_type": "markdown",
   "metadata": {
    "id": "DwQl23_eDPWx"
   },
   "source": [
    "### **7.1 Feature selection** <font color = red>[4 marks]</font>\n",
    "Identify and select the most relevant features for building a logistic regression model using Recursive Feature Elimination with Cross-Validation (RFECV)."
   ]
  },
  {
   "cell_type": "markdown",
   "metadata": {
    "id": "x7oRIQMhDPWy"
   },
   "source": [
    "#### **7.1.1** Import necessary libraries <font color=\"red\">[1 Mark]</font>"
   ]
  },
  {
   "cell_type": "code",
   "execution_count": 139,
   "metadata": {
    "id": "RzQF3EyIDPWy"
   },
   "outputs": [],
   "source": [
    "# Import necessary libraries\n"
   ]
  },
  {
   "cell_type": "markdown",
   "metadata": {
    "id": "j1sHmcZKDPWy"
   },
   "source": [
    "#### **7.1.2** Perform feature selection <font color=\"red\">[2 Mark]</font>"
   ]
  },
  {
   "cell_type": "code",
   "execution_count": 140,
   "metadata": {
    "id": "NKRnzy8sDPWy"
   },
   "outputs": [],
   "source": [
    "# Apply RFECV to identify the most relevant features\n"
   ]
  },
  {
   "cell_type": "code",
   "execution_count": 141,
   "metadata": {
    "id": "1I0kn-9qDPWy"
   },
   "outputs": [],
   "source": [
    "# Display the features ranking by RFECV in a DataFrame\n"
   ]
  },
  {
   "cell_type": "markdown",
   "metadata": {
    "id": "KKdXnylEDPWz"
   },
   "source": [
    "#### **7.1.2** Retain the selected features <font color=\"red\">[1 Mark]</font>"
   ]
  },
  {
   "cell_type": "code",
   "execution_count": 142,
   "metadata": {
    "id": "Q8TkAe72DPWz"
   },
   "outputs": [],
   "source": [
    "# Put columns selected by RFECV into variable 'col'\n"
   ]
  },
  {
   "cell_type": "markdown",
   "metadata": {
    "id": "J8zNEaKcDPWz"
   },
   "source": [
    "### **7.2 Build Logistic Regression Model** <font color = red>[12 marks]</font>\n",
    "After selecting the optimal features using RFECV, utilise these features to build a logistic regression model with Statsmodels. This approach enables a detailed statistical analysis of the model, including the assessment of p-values and Variance Inflation Factors (VIFs). Evaluating these metrics is crucial for detecting multicollinearity and ensuring that the selected predictors are not highly correlated."
   ]
  },
  {
   "cell_type": "markdown",
   "metadata": {
    "id": "xXwl9DO3DPWz"
   },
   "source": [
    "#### **7.2.1** Select relevant features and add constant in training data <font color=\"red\">[1 Mark]</font>"
   ]
  },
  {
   "cell_type": "code",
   "execution_count": 143,
   "metadata": {
    "id": "kF5g0yScDPWz"
   },
   "outputs": [],
   "source": [
    "# Select only the columns selected by RFECV\n"
   ]
  },
  {
   "cell_type": "code",
   "execution_count": 144,
   "metadata": {
    "id": "aBzSiNhrDPWz"
   },
   "outputs": [],
   "source": [
    "# Import statsmodels and add constant\n",
    "\n",
    "# Check the data\n"
   ]
  },
  {
   "cell_type": "markdown",
   "metadata": {
    "id": "jc9wYqe8DPW0"
   },
   "source": [
    "#### **7.2.2** Fit logistic regression model <font color=\"red\">[2 Marks]</font>"
   ]
  },
  {
   "cell_type": "code",
   "execution_count": 145,
   "metadata": {
    "id": "2VTpvsZsDPW0"
   },
   "outputs": [],
   "source": [
    "# Fit a logistic Regression model on X_train after adding a constant and output the summary\n"
   ]
  },
  {
   "cell_type": "markdown",
   "metadata": {
    "id": "XBd9hyWgDPW0"
   },
   "source": [
    "**Model Interpretation**\n",
    "\n",
    "The output summary table will provide the features used for building model along with coefficient of each of the feature and their p-value. The p-value in a logistic regression model is used to assess the statistical significance of each coefficient. Lesser the p-value, more significant the feature is in the model.\n",
    "\n",
    "A positive coefficient will indicate that an increase in the value of feature would increase the odds of the event occurring. On the other hand, a negative coefficient means the opposite, i.e, an increase in the value of feature would decrease the odds of the event occurring."
   ]
  },
  {
   "cell_type": "markdown",
   "metadata": {
    "id": "VnhgDNCNDPW0"
   },
   "source": [
    "Now check VIFs for presence of multicollinearity in the model."
   ]
  },
  {
   "cell_type": "markdown",
   "metadata": {
    "id": "xLTRjCqCDPW0"
   },
   "source": [
    "#### **7.2.3** Evaluate VIF of features to assess multicollinearity <font color=\"red\">[2 Marks]</font>"
   ]
  },
  {
   "cell_type": "code",
   "execution_count": 146,
   "metadata": {
    "id": "MOIppRgGDPW0"
   },
   "outputs": [],
   "source": [
    "# Import 'variance_inflation_factor'\n",
    "from statsmodels.stats.outliers_influence import variance_inflation_factor"
   ]
  },
  {
   "cell_type": "code",
   "execution_count": 147,
   "metadata": {
    "id": "Xwb2dA9XDPW0"
   },
   "outputs": [],
   "source": [
    "# Make a VIF DataFrame for all the variables present\n"
   ]
  },
  {
   "cell_type": "markdown",
   "metadata": {
    "id": "2RMrfSNPDPW1"
   },
   "source": [
    "Proceed to the next step if p-values and VIFs are within acceptable ranges. If you observe high p-values or VIFs, drop the features and retrain the model. <font color=\"red\">[THIS IS OPTIONAL]</font>"
   ]
  },
  {
   "cell_type": "markdown",
   "metadata": {
    "id": "68j2g6bRDPW1"
   },
   "source": [
    "#### **7.2.4** Make predictions on training data <font color = \"red\">[1 Mark]</font>"
   ]
  },
  {
   "cell_type": "code",
   "execution_count": 148,
   "metadata": {
    "id": "5DT1M3O9DPW1"
   },
   "outputs": [],
   "source": [
    "# Predict the probabilities on the training data\n",
    "\n",
    "# Reshape it into an array\n"
   ]
  },
  {
   "cell_type": "markdown",
   "metadata": {
    "id": "_j4gJDUzDPW1"
   },
   "source": [
    "#### **7.2.5** Create a DataFrame that includes actual fraud reported flags, predicted probabilities, and a column indicating predicted classifications based on a cutoff value of 0.5 <font color=\"red\">[1 Mark]</font>\n",
    "\n"
   ]
  },
  {
   "cell_type": "code",
   "execution_count": 149,
   "metadata": {
    "id": "nDaW7LS_DPW1"
   },
   "outputs": [],
   "source": [
    "# Create a new DataFrame containing the actual fraud reported flag and the probabilities predicted by the model\n",
    "\n",
    "# Create new column indicating predicted classifications based on a cutoff value of 0.5\n"
   ]
  },
  {
   "cell_type": "markdown",
   "metadata": {
    "id": "6rXpNOgtDPW1"
   },
   "source": [
    "**Model performance evaluation**\n",
    "\n",
    "Evaluate the performance of the model based on predictions made on the training data."
   ]
  },
  {
   "cell_type": "markdown",
   "metadata": {
    "id": "cornkRdjDPW2"
   },
   "source": [
    "#### **7.2.6** Check the accuracy of the model <font color = \"red\">[1 Mark]</font>"
   ]
  },
  {
   "cell_type": "code",
   "execution_count": 150,
   "metadata": {
    "id": "w0tyT2xgDPW2"
   },
   "outputs": [],
   "source": [
    "# Import metrics from sklearn for evaluation\n",
    "from sklearn import metrics\n",
    "\n",
    "# Check the accuracy of the model\n"
   ]
  },
  {
   "cell_type": "markdown",
   "metadata": {
    "id": "mQPieExsDPW2"
   },
   "source": [
    "#### **7.2.7** Create a confusion matrix based on the predictions made on the training data <font color=\"red\">[1 Mark]</font>"
   ]
  },
  {
   "cell_type": "code",
   "execution_count": 151,
   "metadata": {
    "id": "1v1XZbNkDPW2"
   },
   "outputs": [],
   "source": [
    "# Create confusion matrix\n"
   ]
  },
  {
   "cell_type": "markdown",
   "metadata": {
    "id": "CVWR_SjqKPQF"
   },
   "source": [
    "#### **7.2.8** Create variables for true positive, true negative, false positive and false negative <font color=\"red\">[1 Mark]</font>"
   ]
  },
  {
   "cell_type": "code",
   "execution_count": 152,
   "metadata": {
    "id": "JaXLtV-HKPgY"
   },
   "outputs": [],
   "source": [
    "# Create variables for true positive, true negative, false positive and false negative\n"
   ]
  },
  {
   "cell_type": "markdown",
   "metadata": {
    "id": "UkO5we1NDPW3"
   },
   "source": [
    "#### **7.2.9** Calculate sensitivity, specificity, precision, recall and F1-score <font color=\"red\">[2 Marks]</font>"
   ]
  },
  {
   "cell_type": "code",
   "execution_count": 153,
   "metadata": {
    "id": "K5GpJK5CDPW3"
   },
   "outputs": [],
   "source": [
    "# Calculate the sensitivity\n",
    "\n",
    "\n",
    "# Calculate the specificity\n",
    "\n",
    "\n",
    "# Calculate Precision\n",
    "\n",
    "\n",
    "# Calculate Recall\n",
    "\n",
    "\n",
    "# Calculate F1 Score\n"
   ]
  },
  {
   "cell_type": "markdown",
   "metadata": {
    "id": "gIFdLeULDPW4"
   },
   "source": [
    "### **7.3 Find the Optimal Cutoff** <font color = red>[12 marks]</font>\n",
    "Find the optimal cutoff to improve model performance by evaluating various cutoff values and their impact on relevant metrics."
   ]
  },
  {
   "cell_type": "markdown",
   "metadata": {
    "id": "-un_98BlDPW4"
   },
   "source": [
    "#### **7.3.1** Plot ROC Curve  to visualise the trade-off between true positive rate and false positive rate across different classification thresholds <font color=\"red\">[2 Marks]</font>"
   ]
  },
  {
   "cell_type": "code",
   "execution_count": 154,
   "metadata": {
    "id": "SfRY65pZDPW5"
   },
   "outputs": [],
   "source": [
    "# Import libraries or function to plot the ROC curve\n",
    "\n",
    "\n",
    "# Define ROC function\n"
   ]
  },
  {
   "cell_type": "code",
   "execution_count": 155,
   "metadata": {
    "id": "nGlAWkJDDPW6"
   },
   "outputs": [],
   "source": [
    "# Call the ROC function\n"
   ]
  },
  {
   "cell_type": "markdown",
   "metadata": {
    "id": "cFPV1EBDDPW6"
   },
   "source": [
    "**Sensitivity and Specificity tradeoff**\n",
    "\n",
    "After analysing the area under the curve of the ROC, check the sensitivity and specificity tradeoff to find the optimal cutoff point."
   ]
  },
  {
   "cell_type": "markdown",
   "metadata": {
    "id": "vjcQP2BzDPW6"
   },
   "source": [
    "#### **7.3.2** Predict on training data at various probability cutoffs <font color=\"red\">[1 Mark]</font>"
   ]
  },
  {
   "cell_type": "code",
   "execution_count": 156,
   "metadata": {
    "id": "t1UMUMNODPW6"
   },
   "outputs": [],
   "source": [
    "# Create columns with different probability cutoffs to explore the impact of cutoff on model performance\n"
   ]
  },
  {
   "cell_type": "markdown",
   "metadata": {
    "id": "0EFEKx21DPW6"
   },
   "source": [
    "#### **7.3.3** Plot accuracy, sensitivity, specificity at different values of probability cutoffs <font color=\"red\">[2 Marks]</font>"
   ]
  },
  {
   "cell_type": "code",
   "execution_count": 157,
   "metadata": {
    "id": "OsjuXoXtDPW6"
   },
   "outputs": [],
   "source": [
    "# Create a DataFrame to see the values of accuracy, sensitivity, and specificity at different values of probability cutoffs\n"
   ]
  },
  {
   "cell_type": "code",
   "execution_count": 158,
   "metadata": {
    "id": "z4og5facDPW7"
   },
   "outputs": [],
   "source": [
    "# Plot accuracy, sensitivity, and specificity at different values of probability cutoffs\n"
   ]
  },
  {
   "cell_type": "markdown",
   "metadata": {
    "id": "o6C-ScQ1DPW7"
   },
   "source": [
    "#### **7.3.4** Create a column for final prediction based on optimal cutoff <font color=\"red\">[1 Mark]</font>"
   ]
  },
  {
   "cell_type": "code",
   "execution_count": 159,
   "metadata": {
    "id": "1p-z0A9wDPW7"
   },
   "outputs": [],
   "source": [
    "# Create a column for final prediction based on the optimal cutoff\n"
   ]
  },
  {
   "cell_type": "markdown",
   "metadata": {
    "id": "8jEQC7QlDPW7"
   },
   "source": [
    "#### **7.3.5** Calculate the accuracy <font color=\"red\">[1 Mark]</font>"
   ]
  },
  {
   "cell_type": "code",
   "execution_count": 160,
   "metadata": {
    "id": "-XARhijiDPW7"
   },
   "outputs": [],
   "source": [
    "# Check the accuracy now\n"
   ]
  },
  {
   "cell_type": "markdown",
   "metadata": {
    "id": "qsgvpYa3DPW-"
   },
   "source": [
    "#### **7.3.6** Create confusion matrix <font color=\"red\">[1 Mark]</font>"
   ]
  },
  {
   "cell_type": "code",
   "execution_count": 161,
   "metadata": {
    "id": "tuRtey6YDPW-"
   },
   "outputs": [],
   "source": [
    "# Create the confusion matrix once again\n"
   ]
  },
  {
   "cell_type": "markdown",
   "metadata": {
    "id": "Nbfa0CsbDPW-"
   },
   "source": [
    "#### **7.3.7** Create variables for true positive, true negative, false positive and false negative <font color=\"red\">[1 Mark]</font>"
   ]
  },
  {
   "cell_type": "code",
   "execution_count": 162,
   "metadata": {
    "id": "xAQncHXtDPW_"
   },
   "outputs": [],
   "source": [
    "# Create variables for true positive, true negative, false positive and false negative\n"
   ]
  },
  {
   "cell_type": "markdown",
   "metadata": {
    "id": "z7KXFHRnDPW_"
   },
   "source": [
    "#### **7.3.8** Calculate sensitivity, specificity, precision, recall and F1-score of the model <font color=\"red\">[2 Mark]</font>"
   ]
  },
  {
   "cell_type": "code",
   "execution_count": 163,
   "metadata": {
    "id": "958ly8K8DPW_"
   },
   "outputs": [],
   "source": [
    "# Calculate the sensitivity\n",
    "\n",
    "\n",
    "# Calculate the specificity\n",
    "\n",
    "\n",
    "# Calculate Precision\n",
    "\n",
    "\n",
    "# Calculate Recall\n",
    "\n",
    "\n",
    "# Calculate F1 Score\n"
   ]
  },
  {
   "cell_type": "markdown",
   "metadata": {
    "id": "_dNjDGtNDPXA"
   },
   "source": [
    "**Precision and Recall tradeoff**\n",
    "\n",
    "Check optimal cutoff value by plotting precision-recall curve, and adjust the cutoff based on precision and recall tradeoff if required."
   ]
  },
  {
   "cell_type": "code",
   "execution_count": 164,
   "metadata": {
    "id": "HGKKbLQgDPXA"
   },
   "outputs": [],
   "source": [
    "# Import precision-recall curve function\n",
    "from sklearn.metrics import precision_recall_curve"
   ]
  },
  {
   "cell_type": "markdown",
   "metadata": {
    "id": "G4_-ZTXYDPXB"
   },
   "source": [
    "#### **7.3.9** Plot precision-recall curve <font color=\"red\">[1 Mark]</font>"
   ]
  },
  {
   "cell_type": "code",
   "execution_count": 165,
   "metadata": {
    "id": "Wj2qr5FSDPXB"
   },
   "outputs": [],
   "source": [
    "# Plot precision-recall curve\n"
   ]
  },
  {
   "cell_type": "markdown",
   "metadata": {
    "id": "VdNY3cNPDPXB"
   },
   "source": [
    "### **7.4 Build Random Forest Model** <font color = red>[12 marks]</font>\n",
    "Now that you have built a logistic regression model, let's move on to building a random forest model."
   ]
  },
  {
   "cell_type": "markdown",
   "metadata": {
    "id": "sS2Hc10fDPXC"
   },
   "source": [
    "#### **7.4.1** Import necessary libraries"
   ]
  },
  {
   "cell_type": "code",
   "execution_count": 166,
   "metadata": {
    "id": "S6duSoHlDPXC"
   },
   "outputs": [],
   "source": [
    "# Import necessary libraries\n",
    "from sklearn.ensemble import RandomForestClassifier\n",
    "from sklearn.metrics import classification_report\n",
    "from sklearn.model_selection import cross_val_score, GridSearchCV"
   ]
  },
  {
   "cell_type": "markdown",
   "metadata": {
    "id": "7Euc5ukLDPXC"
   },
   "source": [
    "#### **7.4.2** Build the random forest model <font color=\"red\">[1 Mark]</font>"
   ]
  },
  {
   "cell_type": "code",
   "execution_count": 167,
   "metadata": {
    "id": "3ouCc_YFDPXC"
   },
   "outputs": [],
   "source": [
    "# Build a base random forest model\n"
   ]
  },
  {
   "cell_type": "markdown",
   "metadata": {
    "id": "wr3ExsTgUSKl"
   },
   "source": [
    "#### **7.4.3** Get feature importance scores and select important features <font color=\"red\">[2 Marks]</font>"
   ]
  },
  {
   "cell_type": "code",
   "execution_count": 168,
   "metadata": {
    "collapsed": true,
    "id": "eSnQ3xQL__gV"
   },
   "outputs": [],
   "source": [
    "# Get feature importance scores from the trained model\n",
    "\n",
    "# Create a DataFrame to visualise the importance scores\n"
   ]
  },
  {
   "cell_type": "code",
   "execution_count": 169,
   "metadata": {
    "id": "yQIR2yUqxNVI"
   },
   "outputs": [],
   "source": [
    "# Select features with high importance scores\n",
    "\n",
    "# Create a new training data with only the selected features\n"
   ]
  },
  {
   "cell_type": "markdown",
   "metadata": {
    "id": "wTzZ1YnhU9Dt"
   },
   "source": [
    "#### **7.4.4** Train the model with selected features <font color=\"red\">[1 Mark]</font>"
   ]
  },
  {
   "cell_type": "code",
   "execution_count": 170,
   "metadata": {
    "id": "IeU6JcgJUnPs"
   },
   "outputs": [],
   "source": [
    "# Fit the model on the training data with selected features\n"
   ]
  },
  {
   "cell_type": "markdown",
   "metadata": {
    "id": "g_5Fk-9bDPXG"
   },
   "source": [
    "#### **7.4.5** Generate predictions on the training data <font color=\"red\">[1 Mark]</font>"
   ]
  },
  {
   "cell_type": "code",
   "execution_count": 171,
   "metadata": {
    "id": "TO6AGoPFDPXG"
   },
   "outputs": [],
   "source": [
    "# Generate predictions on training data\n"
   ]
  },
  {
   "cell_type": "markdown",
   "metadata": {
    "id": "I5ApUsKlDPXH"
   },
   "source": [
    "#### **7.4.6** Check accuracy of the model <font color=\"red\">[1 Mark]</font>"
   ]
  },
  {
   "cell_type": "code",
   "execution_count": 172,
   "metadata": {
    "id": "t2zmn36dDPXH"
   },
   "outputs": [],
   "source": [
    "# Check accuracy of the model\n"
   ]
  },
  {
   "cell_type": "markdown",
   "metadata": {
    "id": "Z_e5FElrDPXH"
   },
   "source": [
    "#### **7.4.7** Create confusion matrix <font color=\"red\">[1 Mark]</font>"
   ]
  },
  {
   "cell_type": "code",
   "execution_count": 173,
   "metadata": {
    "id": "NJIGPNTaDPXI"
   },
   "outputs": [],
   "source": [
    "# Create the confusion matrix to visualise the performance\n"
   ]
  },
  {
   "cell_type": "markdown",
   "metadata": {
    "id": "rY3mFM8CDPXI"
   },
   "source": [
    "#### **7.4.8** Create variables for true positive, true negative, false positive and false negative <font color=\"red\">[1 Mark]</font>"
   ]
  },
  {
   "cell_type": "code",
   "execution_count": 174,
   "metadata": {
    "id": "l9Ehc0vcDPXI"
   },
   "outputs": [],
   "source": [
    "# Create variables for true positive, true negative, false positive and false negative\n"
   ]
  },
  {
   "cell_type": "markdown",
   "metadata": {
    "id": "_NSOsFxRDPXJ"
   },
   "source": [
    "#### **7.4.9** Calculate sensitivity, specificity, precision, recall and F1-score of the model <font color=\"red\">[2 Marks]</font>"
   ]
  },
  {
   "cell_type": "code",
   "execution_count": 175,
   "metadata": {
    "id": "M3wJsKu3DPXJ"
   },
   "outputs": [],
   "source": [
    "# Calculate the sensitivity\n",
    "\n",
    "\n",
    "# Calculate the specificity\n",
    "\n",
    "\n",
    "# Calculate Precision\n",
    "\n",
    "\n",
    "# Calculate Recall\n",
    "\n",
    "\n",
    "# Calculate F1 Score\n"
   ]
  },
  {
   "cell_type": "markdown",
   "metadata": {
    "id": "b6Jax54VDPXJ"
   },
   "source": [
    "#### **7.4.10** Check if the model is overfitting training data using cross validation <font color = \"red\">[2 marks]</font>"
   ]
  },
  {
   "cell_type": "code",
   "execution_count": 176,
   "metadata": {
    "id": "42-huob6DPXJ"
   },
   "outputs": [],
   "source": [
    "# Use cross validation to check if the model is overfitting\n"
   ]
  },
  {
   "cell_type": "markdown",
   "metadata": {
    "id": "sNxYrAKZDPXJ"
   },
   "source": [
    "### **7.5 Hyperparameter Tuning** <font color = red>[10 Marks]</font>\n",
    " Enhance the performance of the random forest model by systematically exploring and selecting optimal hyperparameter values using grid search."
   ]
  },
  {
   "cell_type": "markdown",
   "metadata": {
    "id": "UnBcYjbQDPXK"
   },
   "source": [
    "#### **7.5.1** Use grid search to find the best hyperparameter values <font color = red>[2 Marks]</font>"
   ]
  },
  {
   "cell_type": "code",
   "execution_count": 177,
   "metadata": {
    "id": "LTLCDfb4DPXK"
   },
   "outputs": [],
   "source": [
    "# Use grid search to find the best hyperparamter values\n",
    "\n",
    "# Best Hyperparameters\n"
   ]
  },
  {
   "cell_type": "markdown",
   "metadata": {
    "id": "vrGoY46TDPXK"
   },
   "source": [
    "#### **7.5.2** Build a random forest model based on hyperparameter tuning results <font color = red>[1 Mark]</font>"
   ]
  },
  {
   "cell_type": "code",
   "execution_count": 178,
   "metadata": {
    "id": "2yxPaaDxDPXK"
   },
   "outputs": [],
   "source": [
    "# Building random forest model based on results of hyperparameter tuning\n"
   ]
  },
  {
   "cell_type": "markdown",
   "metadata": {
    "id": "IJ4gQ2m0DPXK"
   },
   "source": [
    "#### **7.5.3** Make predictions on training data <font color = red>[1 Mark]</font>"
   ]
  },
  {
   "cell_type": "code",
   "execution_count": 179,
   "metadata": {
    "id": "hTE3p2rCDPXL"
   },
   "outputs": [],
   "source": [
    "# Make predictions on training data\n"
   ]
  },
  {
   "cell_type": "markdown",
   "metadata": {
    "id": "fbfSJpEuDPXL"
   },
   "source": [
    "#### **7.5.4** Check accuracy of Random Forest Model <font color = red>[1 Mark]</font>"
   ]
  },
  {
   "cell_type": "code",
   "execution_count": 180,
   "metadata": {
    "id": "ItpV-JYkDPXL"
   },
   "outputs": [],
   "source": [
    "# Check the accuracy\n"
   ]
  },
  {
   "cell_type": "markdown",
   "metadata": {
    "id": "l-t6Hme3DPXL"
   },
   "source": [
    "#### **7.5.5** Create confusion matrix <font color = red>[1 Mark]</font>"
   ]
  },
  {
   "cell_type": "code",
   "execution_count": 181,
   "metadata": {
    "id": "MdteUZXzDPXL"
   },
   "outputs": [],
   "source": [
    "# Create the confusion matrix\n"
   ]
  },
  {
   "cell_type": "markdown",
   "metadata": {
    "id": "jEUtsRafDPXL"
   },
   "source": [
    "#### **7.5.6** Create variables for true positive, true negative, false positive and false negative <font color = red>[1 Mark]</font>"
   ]
  },
  {
   "cell_type": "code",
   "execution_count": 182,
   "metadata": {
    "id": "0aeUhFSWDPXM"
   },
   "outputs": [],
   "source": [
    "# Create variables for true positive, true negative, false positive and false negative\n"
   ]
  },
  {
   "cell_type": "markdown",
   "metadata": {
    "id": "nwDnBdjnDPXM"
   },
   "source": [
    "#### **7.5.7** Calculate sensitivity, specificity, precision, recall and F1-score of the model <font color = red>[3 Marks]</font>"
   ]
  },
  {
   "cell_type": "code",
   "execution_count": 183,
   "metadata": {
    "id": "KxPHj1NjDPXM"
   },
   "outputs": [],
   "source": [
    "# Calculate the sensitivity\n",
    "\n",
    "\n",
    "# Calculate the specificity\n",
    "\n",
    "\n",
    "# Calculate Precision\n",
    "\n",
    "\n",
    "# Calculate Recall\n",
    "\n",
    "\n",
    "# Calculate F1-Score\n"
   ]
  },
  {
   "cell_type": "markdown",
   "metadata": {
    "id": "yUEvyADyDPXM"
   },
   "source": [
    "## **8. Prediction and Model Evaluation** <font color = red>[20 marks]</font>\n",
    "Use the model from the previous step to make predictions on the validation data with the optimal cutoff. Then evaluate the model's performance using metrics such as accuracy, sensitivity, specificity, precision, and recall."
   ]
  },
  {
   "cell_type": "markdown",
   "metadata": {
    "id": "EQuMB-P1DPXM"
   },
   "source": [
    "### **8.1 Make predictions over validation data using logistic regression model** <font color = red>[10 marks]</font>"
   ]
  },
  {
   "cell_type": "markdown",
   "metadata": {
    "id": "Wuz5v3TYDPXM"
   },
   "source": [
    "#### **8.1.1** Select relevant features for validation data and add constant <font color=\"red\">[1 Mark]</font>"
   ]
  },
  {
   "cell_type": "code",
   "execution_count": 184,
   "metadata": {
    "id": "_AbB-x3aDPXM"
   },
   "outputs": [],
   "source": [
    "# Select the relevant features for validation data\n",
    "\n",
    "# Add constant to X_validation\n"
   ]
  },
  {
   "cell_type": "markdown",
   "metadata": {
    "id": "pzpawlMLDPXM"
   },
   "source": [
    "#### **8.1.2** Make predictions over validation data <font color=\"red\">[1 Mark]</font>"
   ]
  },
  {
   "cell_type": "code",
   "execution_count": 185,
   "metadata": {
    "id": "9CmoAZJODPXM"
   },
   "outputs": [],
   "source": [
    "# Make predictions on the validation data and store it in the variable 'y_validation_pred'\n"
   ]
  },
  {
   "cell_type": "markdown",
   "metadata": {
    "id": "r8qyn8xvDPXM"
   },
   "source": [
    "#### **8.1.3** Create DataFrame with actual values and predicted values for validation data <font color=\"red\">[2 Marks]</font>"
   ]
  },
  {
   "cell_type": "code",
   "execution_count": 186,
   "metadata": {
    "id": "9Zx8RBFVDPXN"
   },
   "outputs": [],
   "source": [
    "#  Create DataFrame with actual values and predicted values for validation data\n"
   ]
  },
  {
   "cell_type": "markdown",
   "metadata": {
    "id": "G_kC6wEPDPXN"
   },
   "source": [
    "#### **8.1.4** Make final prediction based on cutoff value <font color=\"red\">[1 Mark]</font>"
   ]
  },
  {
   "cell_type": "code",
   "execution_count": 187,
   "metadata": {
    "id": "4ge-EC74DPXN"
   },
   "outputs": [],
   "source": [
    "# Make final predictions on the validation data using the optimal cutoff\n"
   ]
  },
  {
   "cell_type": "markdown",
   "metadata": {
    "id": "bt7sm55QDPXN"
   },
   "source": [
    "#### **8.1.5** Check the accuracy of logistic regression model on validation data <font color=\"red\">[1 Mark]</font>"
   ]
  },
  {
   "cell_type": "code",
   "execution_count": 188,
   "metadata": {
    "id": "81tEKwwsDPXN"
   },
   "outputs": [],
   "source": [
    "# Check the accuracy\n"
   ]
  },
  {
   "cell_type": "markdown",
   "metadata": {
    "id": "RE8ZnagdDPXN"
   },
   "source": [
    "#### **8.1.6** Create confusion matrix <font color=\"red\">[1 Mark]</font>"
   ]
  },
  {
   "cell_type": "code",
   "execution_count": 189,
   "metadata": {
    "id": "NjkkexqrDPXN"
   },
   "outputs": [],
   "source": [
    "# Create the confusion matrix\n"
   ]
  },
  {
   "cell_type": "markdown",
   "metadata": {
    "id": "SSqBZOrYDPXN"
   },
   "source": [
    "#### **8.1.7** Create variables for true positive, true negative, false positive and false negative <font color=\"red\">[1 Mark]</font>"
   ]
  },
  {
   "cell_type": "code",
   "execution_count": 190,
   "metadata": {
    "id": "NzH_sFeoDPXN"
   },
   "outputs": [],
   "source": [
    "# Create variables for true positive, true negative, false positive and false negative\n"
   ]
  },
  {
   "cell_type": "markdown",
   "metadata": {
    "id": "_Mkn6DUwDPXN"
   },
   "source": [
    "#### **8.1.8** Calculate sensitivity, specificity, precision, recall and f1 score of the model <font color=\"red\">[2 Marks]</font>"
   ]
  },
  {
   "cell_type": "code",
   "execution_count": 191,
   "metadata": {
    "id": "FCqNW4t3DPXO"
   },
   "outputs": [],
   "source": [
    "# Calculate the sensitivity\n",
    "\n",
    "\n",
    "# Calculate the specificity\n",
    "\n",
    "\n",
    "# Calculate Precision\n",
    "\n",
    "\n",
    "# Calculate Recall\n",
    "\n",
    "\n",
    "# Calculate F1 Score\n"
   ]
  },
  {
   "cell_type": "markdown",
   "metadata": {
    "id": "1wTVm8V_DPXO"
   },
   "source": [
    "### **8.2 Make predictions over validation data using random forest model** <font color = red>[10 marks]</font>"
   ]
  },
  {
   "cell_type": "markdown",
   "metadata": {
    "id": "UDgbDTfIDPXO"
   },
   "source": [
    "#### **8.2.1** Select the important features and make predictions over validation data <font color=\"red\">[2 Marks]</font>"
   ]
  },
  {
   "cell_type": "code",
   "execution_count": 192,
   "metadata": {
    "id": "RhtKprsQDPXO"
   },
   "outputs": [],
   "source": [
    "# Select the relevant features for validation data\n",
    "\n",
    "# Make predictions on the validation data\n"
   ]
  },
  {
   "cell_type": "markdown",
   "metadata": {
    "id": "bUbtP7CADPXO"
   },
   "source": [
    "#### **8.2.2** Check accuracy of random forest model <font color=\"red\">[1 Mark]</font>"
   ]
  },
  {
   "cell_type": "code",
   "execution_count": 193,
   "metadata": {
    "id": "bJyVOpLlDPXO"
   },
   "outputs": [],
   "source": [
    "# Check accuracy\n"
   ]
  },
  {
   "cell_type": "markdown",
   "metadata": {
    "id": "spUa4VBfDPXO"
   },
   "source": [
    "#### **8.2.3** Create confusion matrix <font color=\"red\">[1 Mark]</font>"
   ]
  },
  {
   "cell_type": "code",
   "execution_count": 194,
   "metadata": {
    "id": "eXJVNVrSDPXO"
   },
   "outputs": [],
   "source": [
    "# Create the confusion matrix\n"
   ]
  },
  {
   "cell_type": "markdown",
   "metadata": {
    "id": "HuUdgVYSDPXO"
   },
   "source": [
    "#### **8.2.4** Create variables for true positive, true negative, false positive and false negative <font color=\"red\">[1 Mark]</font>"
   ]
  },
  {
   "cell_type": "code",
   "execution_count": 195,
   "metadata": {
    "id": "UT7lU5CWDPXO"
   },
   "outputs": [],
   "source": [
    "# Create variables for true positive, true negative, false positive and false negative\n"
   ]
  },
  {
   "cell_type": "markdown",
   "metadata": {
    "id": "YAjovvF4DPXO"
   },
   "source": [
    "#### **8.2.5** Calculate sensitivity, specificity, precision, recall and F1-score of the model <font color=\"red\">[5 Marks]</font>"
   ]
  },
  {
   "cell_type": "code",
   "execution_count": 196,
   "metadata": {
    "id": "C1PYzDaWDPXO"
   },
   "outputs": [],
   "source": [
    "# Calculate Sensitivity\n",
    "\n",
    "\n",
    "# Calculate Specificity\n",
    "\n",
    "\n",
    "# Calculate Precision\n",
    "\n",
    "\n",
    "# Calculate Recall\n",
    "\n",
    "\n",
    "# Calculate F1-score\n"
   ]
  },
  {
   "cell_type": "markdown",
   "metadata": {
    "id": "nENAdFWhDPXP"
   },
   "source": [
    "## **Evaluation and Conclusion**\n",
    "Write the conclusion."
   ]
  }
 ],
 "metadata": {
  "colab": {
   "provenance": [
    {
     "file_id": "1SIhxHs7kl3qt0VU3gGAAt_k_NQTvuqmc",
     "timestamp": 1740041215388
    },
    {
     "file_id": "1wef6jk_PrklarfJ5GA9FoyCAiKkArPCw",
     "timestamp": 1739780524071
    }
   ],
   "toc_visible": true
  },
  "kernelspec": {
   "display_name": "fcd-1",
   "language": "python",
   "name": "python3"
  },
  "language_info": {
   "codemirror_mode": {
    "name": "ipython",
    "version": 3
   },
   "file_extension": ".py",
   "mimetype": "text/x-python",
   "name": "python",
   "nbconvert_exporter": "python",
   "pygments_lexer": "ipython3",
   "version": "3.13.4"
  }
 },
 "nbformat": 4,
 "nbformat_minor": 0
}
